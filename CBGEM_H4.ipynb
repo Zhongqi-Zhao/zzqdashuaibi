{
 "cells": [
  {
   "cell_type": "markdown",
   "metadata": {},
   "source": [
    "<p style=\"font-size:20px;\">Simulator: QiskitAer, FakeTorino, ideal device noise simulator (no shot noise). H4(rectangular) in minimal basis (STO-3G), JW mapping, 3-layered tUPS. With zero-parameters for training set, number of parameters is 27. Fitting methods: Square regression with a linear ansatz, add-and-subtract.</p>"
   ]
  },
  {
   "cell_type": "code",
   "execution_count": 1,
   "metadata": {},
   "outputs": [],
   "source": [
    "import pyscf\n",
    "import slowquant.SlowQuant as sq\n",
    "from qiskit_nature.second_q.mappers import JordanWignerMapper\n",
    "from slowquant.qiskit_interface.interface import QuantumInterface\n",
    "from slowquant.qiskit_interface.wavefunction import WaveFunction\n",
    "from slowquant.unitary_coupled_cluster.ups_wavefunction import WaveFunctionUPS\n",
    "#from slowquant.qiskit_interface.linear_response.projected import quantumLR\n",
    "\n",
    "from qiskit_ibm_runtime.fake_provider import FakeTorino\n",
    "\n",
    "from qiskit.primitives import Estimator\n",
    "\n",
    "from qiskit_aer import AerSimulator\n",
    "from qiskit_aer.noise import NoiseModel\n",
    "from qiskit_aer.primitives import Sampler\n",
    "from qiskit_aer.primitives import SamplerV2\n",
    "\n",
    "from qiskit.transpiler.preset_passmanagers import generate_preset_pass_manager\n",
    "\n",
    "import numpy as np\n",
    "from scipy.optimize import minimize\n",
    "\n",
    "import matplotlib.pyplot as plt"
   ]
  },
  {
   "cell_type": "code",
   "execution_count": 4,
   "metadata": {},
   "outputs": [
    {
     "name": "stdout",
     "output_type": "stream",
     "text": [
      "converged SCF energy = -1.77674731624872\n",
      "Number of shots is None. Ideal simulator is assumed.\n",
      "You selected ISA but did not pass a PassManager. Standard internal transpilation will use backend None with optimization level 3\n"
     ]
    },
    {
     "name": "stderr",
     "output_type": "stream",
     "text": [
      "/tmp/ipykernel_722926/1838215017.py:7: DeprecationWarning: The class ``qiskit.primitives.estimator.Estimator`` is deprecated as of qiskit 1.2. It will be removed no earlier than 3 months after the release date. All implementations of the `BaseEstimatorV1` interface have been deprecated in favor of their V2 counterparts. The V2 alternative for the `Estimator` class is `StatevectorEstimator`.\n",
      "  sampler = Estimator()\n"
     ]
    },
    {
     "name": "stdout",
     "output_type": "stream",
     "text": [
      "Non-Clifford Ground state energy: -3.712497370567828\n",
      "Using this function is only recommended for switching from ideal simulator to shot-noise or quantum hardware.\n",
      "                 Multiple switching back and forth can lead to un-expected outcomes and is an experimental feature.\n",
      "\n",
      "Reset RDMs, energies, and QI metrics.\n",
      "Number of shots is None. Ideal simulator is assumed.\n",
      "Your settings are:\n",
      " Ansatz:              tUPS\n",
      " Number of shots:     None\n",
      " ISA                  True\n",
      " Transpiled circuit   True\n",
      " Primitive:           Sampler\n",
      " Post-processing:     False\n",
      " Circuit layout:      [17, 25, 35, 24, 28, 26, 27, 44]\n",
      " Non-local gates:     405\n",
      " Transpilation strategy: External PassManager\n",
      " Primitive backend:   AerSimulator('aer_simulator'\n",
      "             noise_model=<NoiseModel on ['cz', 'sx', 'measure', 'reset', 'x', 'id']>)\n",
      "\n",
      "Noisy Non-Clifford Ground state energy: -2.935460920003\n"
     ]
    }
   ],
   "source": [
    "mol = pyscf.M(atom=\"\"\"H 0.0 0.0 0.0;\n",
    "                      H 1.5 0.0 0.0;\n",
    "                      H 0.0 1.8 0.0;\n",
    "                      H 1.5 1.8 0.0;\"\"\", basis=\"sto-3g\", unit=\"angstrom\")\n",
    "rhf = pyscf.scf.RHF(mol).run()\n",
    "\n",
    "sampler = Estimator()\n",
    "primitive = sampler\n",
    "mapper = JordanWignerMapper()\n",
    "# For H4 you can make the wavefunction better by increasing n_layers.\n",
    "# n_layers: 3 will prob. give almost the FCI solution.\n",
    "QI = QuantumInterface(primitive, \"tUPS\", mapper, ansatz_options={\"n_layers\": 3, \"do_pp\": True}, ISA = True)\n",
    "\n",
    "WF = WaveFunction(\n",
    "    mol.nao * 2,\n",
    "    mol.nelectron,\n",
    "    (4, 4),\n",
    "    rhf.mo_coeff,\n",
    "    mol.intor(\"int1e_kin\") + mol.intor(\"int1e_nuc\"),\n",
    "    mol.intor(\"int2e\"),\n",
    "    QI,\n",
    "    #include_active_kappa = True\n",
    ")\n",
    "\n",
    "#WF.run_vqe_2step(\"RotoSolve\", maxiter=3)\n",
    "#WF.run_vqe_2step(\"SLSQP\", maxiter=40)\n",
    "WF.ansatz_parameters = [3.142800380570141, 2.802123553483023, 3.141844220036336, 3.1415016877195234, 2.7699109323169533, 3.140289037489865, 1.5722892785591813, -0.05183267369041262, -3.139930460730367, -3.05193091891377, 0.07499512879186974, 0.26977250393898994, -2.875485939584386, -0.18478422435886988, 0.21835082743355141, -3.145279642647945, 0.2027868009455131, 3.141049426792193, -2.802097303067954, -0.20245039509840054, 0.14415193008627167, 0.24779481988227897, -0.04867618752527981, -3.0111535837495227, -3.1367777510378136, -0.21605050555915123, -3.14472880076259]\n",
    "\n",
    "#no noise\n",
    "nonclif_ground_state_energy = WF.energy_elec\n",
    "print(\"Non-Clifford Ground state energy:\", nonclif_ground_state_energy)\n",
    "\n",
    "#device noise\n",
    "# Update the primitive with simulated noise\n",
    "backend = FakeTorino()\n",
    "QI.pass_manager = generate_preset_pass_manager(3,backend=backend,seed_transpiler=123) # seeded standard transpiler\n",
    "QI.do_postselection = False\n",
    "QI.do_M_mitigation = False\n",
    "noise_model = NoiseModel.from_backend(backend)\n",
    "sampler = Sampler(backend_options={\"noise_model\":noise_model})\n",
    "WF.change_primitive(sampler)    \n",
    "# Calculate the ground state energy using the noisy simulator\n",
    "noisy_nonclif_ground_state_energy = WF.energy_elec\n",
    "print(\"Noisy Non-Clifford Ground state energy:\",noisy_nonclif_ground_state_energy)"
   ]
  },
  {
   "cell_type": "code",
   "execution_count": 5,
   "metadata": {},
   "outputs": [
    {
     "name": "stdout",
     "output_type": "stream",
     "text": [
      "converged SCF energy = -1.77674731624872\n"
     ]
    },
    {
     "name": "stdout",
     "output_type": "stream",
     "text": [
      "Number of shots is None. Ideal simulator is assumed.\n",
      "You selected ISA but did not pass a PassManager. Standard internal transpilation will use backend None with optimization level 3\n",
      "[0.0, 0.0, 0.0, 0.0, 0.0, 0.0, 0.0, 0.0, 0.0, 0.0, 0.0, 0.0, 0.0, 0.0, 0.0, 0.0, 0.0, 0.0, 0.0, 0.0, 0.0, 0.0, 0.0, 0.0, 0.0, 0.0, 0.0]\n"
     ]
    },
    {
     "name": "stderr",
     "output_type": "stream",
     "text": [
      "/tmp/ipykernel_722926/1615247722.py:7: DeprecationWarning: The class ``qiskit.primitives.estimator.Estimator`` is deprecated as of qiskit 1.2. It will be removed no earlier than 3 months after the release date. All implementations of the `BaseEstimatorV1` interface have been deprecated in favor of their V2 counterparts. The V2 alternative for the `Estimator` class is `StatevectorEstimator`.\n",
      "  primitive = Estimator()\n"
     ]
    },
    {
     "name": "stdout",
     "output_type": "stream",
     "text": [
      "Clifford ground state energy: -3.2895813578825917\n",
      "Using this function is only recommended for switching from ideal simulator to shot-noise or quantum hardware.\n",
      "                 Multiple switching back and forth can lead to un-expected outcomes and is an experimental feature.\n",
      "\n",
      "Reset RDMs, energies, and QI metrics.\n",
      "Number of shots is None. Ideal simulator is assumed.\n",
      "Your settings are:\n",
      " Ansatz:              tUPS\n",
      " Number of shots:     None\n",
      " ISA                  True\n",
      " Transpiled circuit   True\n",
      " Primitive:           Sampler\n",
      " Post-processing:     False\n",
      " Circuit layout:      [17, 25, 35, 24, 28, 26, 27, 44]\n",
      " Non-local gates:     405\n",
      " Transpilation strategy: External PassManager\n",
      " Primitive backend:   AerSimulator('aer_simulator'\n",
      "             noise_model=<NoiseModel on ['cz', 'sx', 'measure', 'reset', 'x', 'id']>)\n",
      "\n",
      "Noisy clifford ground state energy: -2.9932966744688034\n"
     ]
    }
   ],
   "source": [
    "mol = pyscf.M(atom=\"\"\"H 0.0 0.0 0.0;\n",
    "                      H 1.5 0.0 0.0;\n",
    "                      H 0.0 1.8 0.0;\n",
    "                      H 1.5 1.8 0.0;\"\"\", basis=\"sto-3g\", unit=\"angstrom\")\n",
    "rhf = pyscf.scf.RHF(mol).run()\n",
    "\n",
    "primitive = Estimator()\n",
    "mapper = JordanWignerMapper()\n",
    "# For H4 you can make the wavefunction better by increasing n_layers.\n",
    "# n_layers: 3 will prob. give almost the FCI solution.\n",
    "QI = QuantumInterface(primitive, \"tUPS\", mapper, ansatz_options={\"n_layers\": 3, \"do_pp\": True}, ISA = True)\n",
    "\n",
    "WF = WaveFunction(\n",
    "    mol.nao * 2,\n",
    "    mol.nelectron,\n",
    "    (4, 4),\n",
    "    rhf.mo_coeff,\n",
    "    mol.intor(\"int1e_kin\") + mol.intor(\"int1e_nuc\"),\n",
    "    mol.intor(\"int2e\"),\n",
    "    QI,\n",
    "    #include_active_kappa = True\n",
    ")\n",
    "\n",
    "print(WF.ansatz_parameters)\n",
    "\n",
    "clifford_ground_state_energy = WF.energy_elec\n",
    "print('Clifford ground state energy:', clifford_ground_state_energy)\n",
    "\n",
    "QI.pass_manager = generate_preset_pass_manager(3,backend=backend,seed_transpiler=123) # seeded standard transpiler\n",
    "QI.do_postselection = False\n",
    "QI.do_M_mitigation = False\n",
    "noise_model = NoiseModel.from_backend(backend)\n",
    "sampler = Sampler(backend_options={\"noise_model\":noise_model})\n",
    "WF.change_primitive(sampler)\n",
    "noisy_clifford_ground_state_energy = WF.energy_elec\n",
    "print(\"Noisy clifford ground state energy:\", noisy_clifford_ground_state_energy)\n"
   ]
  },
  {
   "cell_type": "code",
   "execution_count": 6,
   "metadata": {},
   "outputs": [
    {
     "name": "stdout",
     "output_type": "stream",
     "text": [
      "AS prediction: -3.2317456034167886\n"
     ]
    }
   ],
   "source": [
    "AS_prediction = noisy_nonclif_ground_state_energy + clifford_ground_state_energy - noisy_clifford_ground_state_energy\n",
    "print('AS prediction:', AS_prediction)"
   ]
  },
  {
   "cell_type": "code",
   "execution_count": 8,
   "metadata": {},
   "outputs": [
    {
     "name": "stdout",
     "output_type": "stream",
     "text": [
      "最优的 a1 值: 1.0890445280733105\n",
      "最优的 a2 值: -0.029747982398319793\n",
      "result of square regression: -3.226595634700633\n"
     ]
    }
   ],
   "source": [
    "#square regression with a linear ansatz\n",
    "def cost_function(a, X_exact, X_noisy):\n",
    "    a1, a2 = a  # 将参数 a 拆分为 a1 和 a2\n",
    "    # 计算代价函数 C 的值\n",
    "    C = (X_exact - (a1 * X_noisy + a2))**2\n",
    "    return C\n",
    "X_exact = np.array(clifford_ground_state_energy)\n",
    "X_noisy = np.array(noisy_clifford_ground_state_energy)\n",
    "# 初始猜测值 a1 和 a2\n",
    "initial_guess = [1, 0]\n",
    "# 最小化代价函数\n",
    "result = minimize(cost_function, initial_guess, args=(X_exact, X_noisy))\n",
    "# 得到最优的 a1 和 a2\n",
    "a1_optimal, a2_optimal = result.x\n",
    "print(f\"最优的 a1 值: {a1_optimal}\")\n",
    "print(f\"最优的 a2 值: {a2_optimal}\")\n",
    "y_pred_linear = a1_optimal*noisy_nonclif_ground_state_energy + a2_optimal\n",
    "print('result of square regression:', y_pred_linear)"
   ]
  },
  {
   "cell_type": "code",
   "execution_count": 12,
   "metadata": {},
   "outputs": [
    {
     "data": {
      "image/png": "[encoded data removed]",
      "text/plain": [
       "<Figure size 640x480 with 1 Axes>"
      ]
     },
     "metadata": {},
     "output_type": "display_data"
    }
   ],
   "source": [
    "# 数据\n",
    "categories = ['Exact', 'AS']\n",
    "values = [nonclif_ground_state_energy, AS_prediction]\n",
    "\n",
    "# 绘制柱状图\n",
    "plt.bar(categories, values, color='skyblue')\n",
    "\n",
    "# 添加标题和标签\n",
    "plt.title('CBGEM_H4')\n",
    "plt.xlabel('Regression Methods')\n",
    "plt.ylabel('Predict Results [Ha]')\n",
    "\n",
    "# 在每个柱子上标注数值\n",
    "for i, v in enumerate(values):\n",
    "    plt.text(i, v + 0.5, str(v), ha='center', fontsize=10)\n",
    "\n",
    "# 显示图表\n",
    "plt.show()"
   ]
  }
 ],
 "metadata": {
  "kernelspec": {
   "display_name": "myenv",
   "language": "python",
   "name": "python3"
  },
  "language_info": {
   "codemirror_mode": {
    "name": "ipython",
    "version": 3
   },
   "file_extension": ".py",
   "mimetype": "text/x-python",
   "name": "python",
   "nbconvert_exporter": "python",
   "pygments_lexer": "ipython3",
   "version": "3.12.4"
  }
 },
 "nbformat": 4,
 "nbformat_minor": 2
}
