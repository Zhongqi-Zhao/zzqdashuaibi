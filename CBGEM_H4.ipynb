{
 "cells": [
  {
   "cell_type": "code",
   "execution_count": 1,
   "metadata": {},
   "outputs": [],
   "source": [
    "import pyscf\n",
    "import slowquant.SlowQuant as sq\n",
    "from qiskit_nature.second_q.mappers import JordanWignerMapper\n",
    "from slowquant.qiskit_interface.interface import QuantumInterface\n",
    "from slowquant.qiskit_interface.wavefunction import WaveFunction\n",
    "from slowquant.unitary_coupled_cluster.ups_wavefunction import WaveFunctionUPS\n",
    "#from slowquant.qiskit_interface.linear_response.projected import quantumLR\n",
    "\n",
    "from qiskit_ibm_runtime.fake_provider import FakeTorino\n",
    "\n",
    "from qiskit.primitives import Estimator\n",
    "\n",
    "from qiskit_aer import AerSimulator\n",
    "from qiskit_aer.noise import NoiseModel\n",
    "from qiskit_aer.primitives import Sampler\n",
    "from qiskit_aer.primitives import SamplerV2\n",
    "\n",
    "from qiskit.transpiler.preset_passmanagers import generate_preset_pass_manager\n",
    "\n",
    "import numpy as np\n",
    "from scipy.optimize import minimize"
   ]
  },
  {
   "cell_type": "code",
   "execution_count": 3,
   "metadata": {},
   "outputs": [
    {
     "name": "stdout",
     "output_type": "stream",
     "text": [
      "converged SCF energy = -1.77674731624872\n"
     ]
    },
    {
     "name": "stdout",
     "output_type": "stream",
     "text": [
      "Number of shots is None. Ideal simulator is assumed.\n",
      "You selected ISA but did not pass a PassManager. Standard internal transpilation will use backend None with optimization level 3\n",
      "Full optimization\n",
      "Iteration # | Iteration time [s] | Electronic energy [Hartree]\n",
      "--------Ansatz optimization\n",
      "--------Iteration # | Iteration time [s] | Electronic energy [Hartree]\n"
     ]
    },
    {
     "name": "stderr",
     "output_type": "stream",
     "text": [
      "/tmp/ipykernel_576411/4086987143.py:7: DeprecationWarning: The class ``qiskit.primitives.estimator.Estimator`` is deprecated as of qiskit 1.2. It will be removed no earlier than 3 months after the release date. All implementations of the `BaseEstimatorV1` interface have been deprecated in favor of their V2 counterparts. The V2 alternative for the `Estimator` class is `StatevectorEstimator`.\n",
      "  sampler = Estimator()\n"
     ]
    },
    {
     "name": "stdout",
     "output_type": "stream",
     "text": [
      "--------     1      |        55.26       |     -3.5535136105572458    \n",
      "--------     2      |        55.81       |     -3.5832852103235662    \n",
      "--------     3      |        52.49       |     -3.5860285285231805    \n",
      "Full optimization\n",
      "Iteration # | Iteration time [s] | Electronic energy [Hartree]\n",
      "--------Ansatz optimization\n",
      "--------Iteration # | Iteration time [s] | Electronic energy [Hartree]\n",
      "--------     1      |        20.60       |     -3.5863422696342351    \n",
      "--------     2      |        20.36       |     -3.5866118237282123    \n",
      "--------     3      |        19.74       |     -3.5867386834939445    \n",
      "--------     4      |        20.16       |     -3.5872715356047364    \n",
      "--------     5      |        19.72       |     -3.5884052688525241    \n",
      "--------     6      |        20.60       |     -3.0422668988251416    \n",
      "--------     7      |        21.20       |     -3.5740847223601957    \n",
      "--------     8      |        20.61       |     -3.5889900038251907    \n",
      "--------     9      |        20.62       |     -3.5896076944375475    \n",
      "--------     10     |        20.71       |     -3.5917528379731012    \n",
      "--------     11     |        21.04       |     -3.6059463871663513    \n",
      "--------     12     |        20.96       |     -3.6453392603858923    \n",
      "--------     13     |        21.08       |     -3.4094769555152804    \n",
      "--------     14     |        20.56       |     -3.5968952317248646    \n",
      "--------     15     |        20.40       |     -3.6874858370778356    \n",
      "--------     16     |        20.29       |     -3.7114507576682931    \n",
      "--------     17     |        20.41       |     -3.7113191348256769    \n",
      "--------     18     |        21.16       |     -3.7119219719048866    \n",
      "--------     19     |        20.66       |     -3.7117276314623200    \n",
      "--------     20     |        21.28       |     -3.7121974985038548    \n",
      "--------     21     |        20.58       |     -3.7122161662714355    \n",
      "--------     22     |        20.50       |     -3.7122204219805099    \n",
      "--------     23     |        20.49       |     -3.7122209924654013    \n",
      "--------     24     |        21.25       |     -3.7122218520455492    \n",
      "--------     25     |        20.59       |     -3.7122238905872393    \n",
      "--------     26     |        20.45       |     -3.7122254782518356    \n",
      "--------     27     |        20.46       |     -3.7122299886750136    \n",
      "--------     28     |        20.90       |     -3.7122342001613315    \n",
      "--------     29     |        20.52       |     -3.7122362909835971    \n",
      "--------     30     |        20.51       |     -3.7122369476565873    \n",
      "--------     31     |        21.10       |     -3.7122374417733250    \n",
      "--------     32     |        20.76       |     -3.7122382089628743    \n",
      "--------     33     |        20.62       |     -3.7122401904625435    \n",
      "--------     34     |        20.51       |     -3.7122454986516451    \n",
      "--------     35     |        21.96       |     -3.7122600875272274    \n",
      "--------     36     |        22.89       |     -3.7122782796412519    \n",
      "--------     37     |        23.16       |     -3.7123073131775386    \n",
      "--------     38     |        23.91       |     -3.7123566337214999    \n",
      "--------     39     |        23.00       |     -3.7123389655723629    \n",
      "--------     40     |        23.49       |     -3.7123638446002190    \n",
      "Non-Clifford Ground state energy: -3.712363844600219\n",
      "Using this function is only recommended for switching from ideal simulator to shot-noise or quantum hardware.\n",
      "                 Multiple switching back and forth can lead to un-expected outcomes and is an experimental feature.\n",
      "\n",
      "Reset RDMs, energies, and QI metrics.\n",
      "Number of shots is None. Ideal simulator is assumed.\n",
      "Your settings are:\n",
      " Ansatz:              tUPS\n",
      " Number of shots:     None\n",
      " ISA                  True\n",
      " Transpiled circuit   True\n",
      " Primitive:           Sampler\n",
      " Post-processing:     False\n",
      " Circuit layout:      [17, 25, 35, 24, 28, 26, 27, 44]\n",
      " Non-local gates:     405\n",
      " Transpilation strategy: External PassManager\n",
      " Primitive backend:   AerSimulator('aer_simulator'\n",
      "             noise_model=<NoiseModel on ['x', 'sx', 'cz', 'reset', 'measure', 'id']>)\n",
      "\n",
      "Noisy Non-Clifford Ground state energy: -2.9374047503544953\n"
     ]
    }
   ],
   "source": [
    "mol = pyscf.M(atom=\"\"\"H 0.0 0.0 0.0;\n",
    "                      H 1.5 0.0 0.0;\n",
    "                      H 0.0 1.8 0.0;\n",
    "                      H 1.5 1.8 0.0;\"\"\", basis=\"sto-3g\", unit=\"angstrom\")\n",
    "rhf = pyscf.scf.RHF(mol).run()\n",
    "\n",
    "sampler = Estimator()\n",
    "primitive = sampler\n",
    "mapper = JordanWignerMapper()\n",
    "# For H4 you can make the wavefunction better by increasing n_layers.\n",
    "# n_layers: 3 will prob. give almost the FCI solution.\n",
    "QI = QuantumInterface(primitive, \"tUPS\", mapper, ansatz_options={\"n_layers\": 3, \"do_pp\": True}, ISA = True)\n",
    "\n",
    "WF = WaveFunction(\n",
    "    mol.nao * 2,\n",
    "    mol.nelectron,\n",
    "    (4, 4),\n",
    "    rhf.mo_coeff,\n",
    "    mol.intor(\"int1e_kin\") + mol.intor(\"int1e_nuc\"),\n",
    "    mol.intor(\"int2e\"),\n",
    "    QI,\n",
    "    #include_active_kappa = True\n",
    ")\n",
    "\n",
    "WF.run_vqe_2step(\"RotoSolve\", maxiter=3)\n",
    "WF.run_vqe_2step(\"SLSQP\", maxiter=40)\n",
    "\n",
    "#no noise\n",
    "nonclif_ground_state_energy = WF.energy_elec\n",
    "print(\"Non-Clifford Ground state energy:\", nonclif_ground_state_energy)\n",
    "\n",
    "#device noise\n",
    "# Update the primitive with simulated noise\n",
    "backend = FakeTorino()\n",
    "QI.pass_manager = generate_preset_pass_manager(3,backend=backend,seed_transpiler=123) # seeded standard transpiler\n",
    "QI.do_postselection = False\n",
    "QI.do_M_mitigation = False\n",
    "noise_model = NoiseModel.from_backend(backend)\n",
    "sampler = Sampler(backend_options={\"noise_model\":noise_model})\n",
    "WF.change_primitive(sampler)    \n",
    "# Calculate the ground state energy using the noisy simulator\n",
    "noisy_nonclif_ground_state_energy = WF.energy_elec\n",
    "print(\"Noisy Non-Clifford Ground state energy:\",noisy_nonclif_ground_state_energy)"
   ]
  },
  {
   "cell_type": "code",
   "execution_count": 5,
   "metadata": {},
   "outputs": [
    {
     "name": "stdout",
     "output_type": "stream",
     "text": [
      "converged SCF energy = -1.77674731624872\n",
      "Number of shots is None. Ideal simulator is assumed.\n",
      "You selected ISA but did not pass a PassManager. Standard internal transpilation will use backend None with optimization level 3\n",
      "[0.0, 0.0, 0.0, 0.0, 0.0, 0.0, 0.0, 0.0, 0.0, 0.0, 0.0, 0.0, 0.0, 0.0, 0.0, 0.0, 0.0, 0.0, 0.0, 0.0, 0.0, 0.0, 0.0, 0.0, 0.0, 0.0, 0.0]\n"
     ]
    },
    {
     "name": "stderr",
     "output_type": "stream",
     "text": [
      "/tmp/ipykernel_576411/1615247722.py:7: DeprecationWarning: The class ``qiskit.primitives.estimator.Estimator`` is deprecated as of qiskit 1.2. It will be removed no earlier than 3 months after the release date. All implementations of the `BaseEstimatorV1` interface have been deprecated in favor of their V2 counterparts. The V2 alternative for the `Estimator` class is `StatevectorEstimator`.\n",
      "  primitive = Estimator()\n"
     ]
    },
    {
     "name": "stdout",
     "output_type": "stream",
     "text": [
      "Clifford ground state energy: -3.2895813578825943\n",
      "Using this function is only recommended for switching from ideal simulator to shot-noise or quantum hardware.\n",
      "                 Multiple switching back and forth can lead to un-expected outcomes and is an experimental feature.\n",
      "\n",
      "Reset RDMs, energies, and QI metrics.\n",
      "Number of shots is None. Ideal simulator is assumed.\n",
      "Your settings are:\n",
      " Ansatz:              tUPS\n",
      " Number of shots:     None\n",
      " ISA                  True\n",
      " Transpiled circuit   True\n",
      " Primitive:           Sampler\n",
      " Post-processing:     False\n",
      " Circuit layout:      [17, 25, 35, 24, 28, 26, 27, 44]\n",
      " Non-local gates:     405\n",
      " Transpilation strategy: External PassManager\n",
      " Primitive backend:   AerSimulator('aer_simulator'\n",
      "             noise_model=<NoiseModel on ['x', 'sx', 'cz', 'reset', 'measure', 'id']>)\n",
      "\n",
      "Noisy clifford ground state energy: -2.993296674468804\n"
     ]
    }
   ],
   "source": [
    "mol = pyscf.M(atom=\"\"\"H 0.0 0.0 0.0;\n",
    "                      H 1.5 0.0 0.0;\n",
    "                      H 0.0 1.8 0.0;\n",
    "                      H 1.5 1.8 0.0;\"\"\", basis=\"sto-3g\", unit=\"angstrom\")\n",
    "rhf = pyscf.scf.RHF(mol).run()\n",
    "\n",
    "primitive = Estimator()\n",
    "mapper = JordanWignerMapper()\n",
    "# For H4 you can make the wavefunction better by increasing n_layers.\n",
    "# n_layers: 3 will prob. give almost the FCI solution.\n",
    "QI = QuantumInterface(primitive, \"tUPS\", mapper, ansatz_options={\"n_layers\": 3, \"do_pp\": True}, ISA = True)\n",
    "\n",
    "WF = WaveFunction(\n",
    "    mol.nao * 2,\n",
    "    mol.nelectron,\n",
    "    (4, 4),\n",
    "    rhf.mo_coeff,\n",
    "    mol.intor(\"int1e_kin\") + mol.intor(\"int1e_nuc\"),\n",
    "    mol.intor(\"int2e\"),\n",
    "    QI,\n",
    "    #include_active_kappa = True\n",
    ")\n",
    "\n",
    "print(WF.ansatz_parameters)\n",
    "\n",
    "clifford_ground_state_energy = WF.energy_elec\n",
    "print('Clifford ground state energy:', clifford_ground_state_energy)\n",
    "\n",
    "QI.pass_manager = generate_preset_pass_manager(3,backend=backend,seed_transpiler=123) # seeded standard transpiler\n",
    "QI.do_postselection = False\n",
    "QI.do_M_mitigation = False\n",
    "noise_model = NoiseModel.from_backend(backend)\n",
    "sampler = Sampler(backend_options={\"noise_model\":noise_model})\n",
    "WF.change_primitive(sampler)\n",
    "noisy_clifford_ground_state_energy = WF.energy_elec\n",
    "print(\"Noisy clifford ground state energy:\", noisy_clifford_ground_state_energy)\n"
   ]
  },
  {
   "cell_type": "code",
   "execution_count": 6,
   "metadata": {},
   "outputs": [
    {
     "name": "stdout",
     "output_type": "stream",
     "text": [
      "AS prediction: -3.2336894337682858\n"
     ]
    }
   ],
   "source": [
    "AS_prediction = noisy_nonclif_ground_state_energy + clifford_ground_state_energy - noisy_clifford_ground_state_energy\n",
    "print('AS prediction:', AS_prediction)"
   ]
  },
  {
   "cell_type": "code",
   "execution_count": 7,
   "metadata": {},
   "outputs": [
    {
     "name": "stdout",
     "output_type": "stream",
     "text": [
      "最优的 a1 值: 1.0890445280770469\n",
      "最优的 a2 值: -0.029747982352814086\n",
      "result of square regression: -3.228712552473901\n"
     ]
    }
   ],
   "source": [
    "#square regression with a linear ansatz\n",
    "def cost_function(a, X_exact, X_noisy):\n",
    "    a1, a2 = a  # 将参数 a 拆分为 a1 和 a2\n",
    "    # 计算代价函数 C 的值\n",
    "    C = (X_exact - (a1 * X_noisy + a2))**2\n",
    "    return C\n",
    "X_exact = np.array(clifford_ground_state_energy)\n",
    "X_noisy = np.array(noisy_clifford_ground_state_energy)\n",
    "# 初始猜测值 a1 和 a2\n",
    "initial_guess = [1, 0]\n",
    "# 最小化代价函数\n",
    "result = minimize(cost_function, initial_guess, args=(X_exact, X_noisy))\n",
    "# 得到最优的 a1 和 a2\n",
    "a1_optimal, a2_optimal = result.x\n",
    "print(f\"最优的 a1 值: {a1_optimal}\")\n",
    "print(f\"最优的 a2 值: {a2_optimal}\")\n",
    "y_pred_reg = a1_optimal*noisy_nonclif_ground_state_energy + a2_optimal\n",
    "print('result of square regression:', y_pred_reg)"
   ]
  }
 ],
 "metadata": {
  "kernelspec": {
   "display_name": "myenv",
   "language": "python",
   "name": "python3"
  },
  "language_info": {
   "codemirror_mode": {
    "name": "ipython",
    "version": 3
   },
   "file_extension": ".py",
   "mimetype": "text/x-python",
   "name": "python",
   "nbconvert_exporter": "python",
   "pygments_lexer": "ipython3",
   "version": "3.12.4"
  }
 },
 "nbformat": 4,
 "nbformat_minor": 2
}
