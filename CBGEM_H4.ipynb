{
 "cells": [
  {
   "cell_type": "markdown",
   "metadata": {},
   "source": [
    "<p style=\"font-size:20px;\">Simulator: QiskitAer, FakeTorino, ideal device noise simulator (no shot noise). H4(rectangular) in minimal basis (STO-3G), JW mapping, 3-layered tUPS. With zero-parameters as well as biasing parameters for training set, number of parameters is 27. Fitting methods: Square regression with a linear ansatz, add-and-subtract.</p>"
   ]
  },
  {
   "cell_type": "code",
   "execution_count": 1,
   "metadata": {},
   "outputs": [],
   "source": [
    "import pyscf\n",
    "import slowquant.SlowQuant as sq\n",
    "from qiskit_nature.second_q.mappers import JordanWignerMapper\n",
    "from slowquant.qiskit_interface.interface import QuantumInterface\n",
    "from slowquant.qiskit_interface.wavefunction import WaveFunction\n",
    "from slowquant.unitary_coupled_cluster.ups_wavefunction import WaveFunctionUPS\n",
    "#from slowquant.qiskit_interface.linear_response.projected import quantumLR\n",
    "\n",
    "from qiskit_ibm_runtime.fake_provider import FakeTorino\n",
    "\n",
    "from qiskit.primitives import Estimator\n",
    "\n",
    "from qiskit_aer import AerSimulator\n",
    "from qiskit_aer.noise import NoiseModel\n",
    "from qiskit_aer.primitives import Sampler\n",
    "from qiskit_aer.primitives import SamplerV2\n",
    "\n",
    "from qiskit.transpiler.preset_passmanagers import generate_preset_pass_manager\n",
    "\n",
    "import numpy as np\n",
    "from scipy.optimize import minimize\n",
    "\n",
    "import matplotlib.pyplot as plt"
   ]
  },
  {
   "cell_type": "code",
   "execution_count": 10,
   "metadata": {},
   "outputs": [
    {
     "name": "stdout",
     "output_type": "stream",
     "text": [
      "converged SCF energy = -1.77674731624872\n",
      "Number of shots is None. Ideal simulator is assumed.\n",
      "You selected ISA but did not pass a PassManager. Standard internal transpilation will use backend None with optimization level 3\n"
     ]
    },
    {
     "name": "stderr",
     "output_type": "stream",
     "text": [
      "/tmp/ipykernel_2656098/3545999174.py:7: DeprecationWarning: The class ``qiskit.primitives.estimator.Estimator`` is deprecated as of qiskit 1.2. It will be removed no earlier than 3 months after the release date. All implementations of the `BaseEstimatorV1` interface have been deprecated in favor of their V2 counterparts. The V2 alternative for the `Estimator` class is `StatevectorEstimator`.\n",
      "  sampler = Estimator()\n"
     ]
    },
    {
     "name": "stdout",
     "output_type": "stream",
     "text": [
      "Non-Clifford Ground state energy: -3.712497370567829\n",
      "Using this function is only recommended for switching from ideal simulator to shot-noise or quantum hardware.\n",
      "                 Multiple switching back and forth can lead to un-expected outcomes and is an experimental feature.\n",
      "\n",
      "Reset RDMs, energies, and QI metrics.\n",
      "Number of shots is None. Ideal simulator is assumed.\n",
      "Your settings are:\n",
      " Ansatz:              tUPS\n",
      " Number of shots:     None\n",
      " ISA                  True\n",
      " Transpiled circuit   True\n",
      " Primitive:           Sampler\n",
      " Post-processing:     False\n",
      " Circuit layout:      [17, 25, 35, 24, 28, 26, 27, 44]\n",
      " Non-local gates:     405\n",
      " Transpilation strategy: External PassManager\n",
      " Primitive backend:   AerSimulator('aer_simulator'\n",
      "             noise_model=<NoiseModel on ['cz', 'measure', 'x', 'id', 'reset', 'sx']>)\n",
      "\n",
      "Noisy Non-Clifford Ground state energy: -2.9354609200029995\n"
     ]
    }
   ],
   "source": [
    "mol = pyscf.M(atom=\"\"\"H 0.0 0.0 0.0;\n",
    "                      H 1.5 0.0 0.0;\n",
    "                      H 0.0 1.8 0.0;\n",
    "                      H 1.5 1.8 0.0;\"\"\", basis=\"sto-3g\", unit=\"angstrom\")\n",
    "rhf = pyscf.scf.RHF(mol).run()\n",
    "\n",
    "sampler = Estimator()\n",
    "primitive = sampler\n",
    "mapper = JordanWignerMapper()\n",
    "# For H4 you can make the wavefunction better by increasing n_layers.\n",
    "# n_layers: 3 will prob. give almost the FCI solution.\n",
    "QI = QuantumInterface(primitive, \"tUPS\", mapper, ansatz_options={\"n_layers\": 3, \"do_pp\": True}, ISA = True)\n",
    "\n",
    "WF = WaveFunction(\n",
    "    mol.nao * 2,\n",
    "    mol.nelectron,\n",
    "    (4, 4),\n",
    "    rhf.mo_coeff,\n",
    "    mol.intor(\"int1e_kin\") + mol.intor(\"int1e_nuc\"),\n",
    "    mol.intor(\"int2e\"),\n",
    "    QI,\n",
    "    #include_active_kappa = True\n",
    ")\n",
    "\n",
    "#WF.run_vqe_2step(\"RotoSolve\", maxiter=3)\n",
    "#WF.run_vqe_2step(\"SLSQP\", maxiter=40)\n",
    "WF.ansatz_parameters = [3.142800380570141, 2.802123553483023, 3.141844220036336, 3.1415016877195234, 2.7699109323169533, 3.140289037489865, 1.5722892785591813, -0.05183267369041262, -3.139930460730367, -3.05193091891377, 0.07499512879186974, 0.26977250393898994, -2.875485939584386, -0.18478422435886988, 0.21835082743355141, -3.145279642647945, 0.2027868009455131, 3.141049426792193, -2.802097303067954, -0.20245039509840054, 0.14415193008627167, 0.24779481988227897, -0.04867618752527981, -3.0111535837495227, -3.1367777510378136, -0.21605050555915123, -3.14472880076259]\n",
    "optimized_parameters = WF.ansatz_parameters\n",
    "#no noise\n",
    "nonclif_ground_state_energy = WF.energy_elec\n",
    "print(\"Non-Clifford Ground state energy:\", nonclif_ground_state_energy)\n",
    "\n",
    "#device noise\n",
    "# Update the primitive with simulated noise\n",
    "backend = FakeTorino()\n",
    "QI.pass_manager = generate_preset_pass_manager(3,backend=backend,seed_transpiler=123) # seeded standard transpiler\n",
    "QI.do_postselection = False\n",
    "QI.do_M_mitigation = False\n",
    "noise_model = NoiseModel.from_backend(backend)\n",
    "sampler = Sampler(backend_options={\"noise_model\":noise_model})\n",
    "WF.change_primitive(sampler)    \n",
    "# Calculate the ground state energy using the noisy simulator\n",
    "noisy_nonclif_ground_state_energy = WF.energy_elec\n",
    "print(\"Noisy Non-Clifford Ground state energy:\",noisy_nonclif_ground_state_energy)"
   ]
  },
  {
   "cell_type": "code",
   "execution_count": 11,
   "metadata": {},
   "outputs": [
    {
     "name": "stdout",
     "output_type": "stream",
     "text": [
      "converged SCF energy = -1.77674731624872\n",
      "Number of shots is None. Ideal simulator is assumed.\n",
      "You selected ISA but did not pass a PassManager. Standard internal transpilation will use backend None with optimization level 3\n",
      "[0.0, 0.0, 0.0, 0.0, 0.0, 0.0, 0.0, 0.0, 0.0, 0.0, 0.0, 0.0, 0.0, 0.0, 0.0, 0.0, 0.0, 0.0, 0.0, 0.0, 0.0, 0.0, 0.0, 0.0, 0.0, 0.0, 0.0]\n"
     ]
    },
    {
     "name": "stderr",
     "output_type": "stream",
     "text": [
      "/tmp/ipykernel_2656098/1615247722.py:7: DeprecationWarning: The class ``qiskit.primitives.estimator.Estimator`` is deprecated as of qiskit 1.2. It will be removed no earlier than 3 months after the release date. All implementations of the `BaseEstimatorV1` interface have been deprecated in favor of their V2 counterparts. The V2 alternative for the `Estimator` class is `StatevectorEstimator`.\n",
      "  primitive = Estimator()\n"
     ]
    },
    {
     "name": "stdout",
     "output_type": "stream",
     "text": [
      "Clifford ground state energy: -3.289581357882592\n",
      "Using this function is only recommended for switching from ideal simulator to shot-noise or quantum hardware.\n",
      "                 Multiple switching back and forth can lead to un-expected outcomes and is an experimental feature.\n",
      "\n",
      "Reset RDMs, energies, and QI metrics.\n",
      "Number of shots is None. Ideal simulator is assumed.\n",
      "Your settings are:\n",
      " Ansatz:              tUPS\n",
      " Number of shots:     None\n",
      " ISA                  True\n",
      " Transpiled circuit   True\n",
      " Primitive:           Sampler\n",
      " Post-processing:     False\n",
      " Circuit layout:      [17, 25, 35, 24, 28, 26, 27, 44]\n",
      " Non-local gates:     405\n",
      " Transpilation strategy: External PassManager\n",
      " Primitive backend:   AerSimulator('aer_simulator'\n",
      "             noise_model=<NoiseModel on ['cz', 'measure', 'x', 'id', 'reset', 'sx']>)\n",
      "\n",
      "Noisy clifford ground state energy: -2.993296674468803\n"
     ]
    }
   ],
   "source": [
    "mol = pyscf.M(atom=\"\"\"H 0.0 0.0 0.0;\n",
    "                      H 1.5 0.0 0.0;\n",
    "                      H 0.0 1.8 0.0;\n",
    "                      H 1.5 1.8 0.0;\"\"\", basis=\"sto-3g\", unit=\"angstrom\")\n",
    "rhf = pyscf.scf.RHF(mol).run()\n",
    "\n",
    "primitive = Estimator()\n",
    "mapper = JordanWignerMapper()\n",
    "# For H4 you can make the wavefunction better by increasing n_layers.\n",
    "# n_layers: 3 will prob. give almost the FCI solution.\n",
    "QI = QuantumInterface(primitive, \"tUPS\", mapper, ansatz_options={\"n_layers\": 3, \"do_pp\": True}, ISA = True)\n",
    "\n",
    "WF = WaveFunction(\n",
    "    mol.nao * 2,\n",
    "    mol.nelectron,\n",
    "    (4, 4),\n",
    "    rhf.mo_coeff,\n",
    "    mol.intor(\"int1e_kin\") + mol.intor(\"int1e_nuc\"),\n",
    "    mol.intor(\"int2e\"),\n",
    "    QI,\n",
    "    #include_active_kappa = True\n",
    ")\n",
    "\n",
    "print(WF.ansatz_parameters)\n",
    "\n",
    "clifford_ground_state_energy = WF.energy_elec\n",
    "print('Clifford ground state energy:', clifford_ground_state_energy)\n",
    "\n",
    "QI.pass_manager = generate_preset_pass_manager(3,backend=backend,seed_transpiler=123) # seeded standard transpiler\n",
    "QI.do_postselection = False\n",
    "QI.do_M_mitigation = False\n",
    "noise_model = NoiseModel.from_backend(backend)\n",
    "sampler = Sampler(backend_options={\"noise_model\":noise_model})\n",
    "WF.change_primitive(sampler)\n",
    "noisy_clifford_ground_state_energy = WF.energy_elec\n",
    "print(\"Noisy clifford ground state energy:\", noisy_clifford_ground_state_energy)\n"
   ]
  },
  {
   "cell_type": "code",
   "execution_count": 12,
   "metadata": {},
   "outputs": [
    {
     "name": "stdout",
     "output_type": "stream",
     "text": [
      "AS prediction: -3.231745603416789\n"
     ]
    }
   ],
   "source": [
    "AS_prediction = noisy_nonclif_ground_state_energy + clifford_ground_state_energy - noisy_clifford_ground_state_energy\n",
    "print('AS prediction:', AS_prediction)"
   ]
  },
  {
   "cell_type": "code",
   "execution_count": 5,
   "metadata": {},
   "outputs": [
    {
     "name": "stdout",
     "output_type": "stream",
     "text": [
      "最优的 a1 值: 1.0890445564352824\n",
      "最优的 a2 值: -0.029747992760151217\n",
      "result of square regression: -3.144720990404919\n"
     ]
    }
   ],
   "source": [
    "#square regression with a linear ansatz\n",
    "def cost_function(a, X_exact, X_noisy):\n",
    "    a1, a2 = a  # 将参数 a 拆分为 a1 和 a2\n",
    "    # 计算代价函数 C 的值\n",
    "    C = (X_exact - (a1 * X_noisy + a2))**2\n",
    "    return C\n",
    "X_exact = np.array(clifford_ground_state_energy)\n",
    "X_noisy = np.array(noisy_clifford_ground_state_energy)\n",
    "# 初始猜测值 a1 和 a2\n",
    "initial_guess = [1, 0]\n",
    "# 最小化代价函数\n",
    "result = minimize(cost_function, initial_guess, args=(X_exact, X_noisy))\n",
    "# 得到最优的 a1 和 a2\n",
    "a1_optimal, a2_optimal = result.x\n",
    "print(f\"最优的 a1 值: {a1_optimal}\")\n",
    "print(f\"最优的 a2 值: {a2_optimal}\")\n",
    "y_pred_linear = a1_optimal*noisy_nonclif_ground_state_energy + a2_optimal\n",
    "print('result of square regression:', y_pred_linear)"
   ]
  },
  {
   "cell_type": "code",
   "execution_count": 13,
   "metadata": {},
   "outputs": [
    {
     "name": "stdout",
     "output_type": "stream",
     "text": [
      "converged SCF energy = -1.77674731624872\n"
     ]
    },
    {
     "name": "stdout",
     "output_type": "stream",
     "text": [
      "Number of shots is None. Ideal simulator is assumed.\n",
      "You selected ISA but did not pass a PassManager. Standard internal transpilation will use backend None with optimization level 3\n",
      "[3.141592653589793, 0, 3.141592653589793, 3.141592653589793, 0, 3.141592653589793, 1.5707963267948966, 0, -3.141592653589793, -3.141592653589793, 0, 0, -3.141592653589793, 0, 0, -3.141592653589793, 0, 3.141592653589793, -3.141592653589793, 0, 0, 0, 0, -3.141592653589793, -3.141592653589793, 0, -3.141592653589793]\n"
     ]
    },
    {
     "name": "stderr",
     "output_type": "stream",
     "text": [
      "/tmp/ipykernel_2656098/2201919526.py:7: DeprecationWarning: The class ``qiskit.primitives.estimator.Estimator`` is deprecated as of qiskit 1.2. It will be removed no earlier than 3 months after the release date. All implementations of the `BaseEstimatorV1` interface have been deprecated in favor of their V2 counterparts. The V2 alternative for the `Estimator` class is `StatevectorEstimator`.\n",
      "  sampler = Estimator()\n"
     ]
    },
    {
     "name": "stdout",
     "output_type": "stream",
     "text": [
      "-3.5219862697272957\n",
      "Using this function is only recommended for switching from ideal simulator to shot-noise or quantum hardware.\n",
      "                 Multiple switching back and forth can lead to un-expected outcomes and is an experimental feature.\n",
      "\n",
      "Reset RDMs, energies, and QI metrics.\n",
      "Number of shots is None. Ideal simulator is assumed.\n",
      "Your settings are:\n",
      " Ansatz:              tUPS\n",
      " Number of shots:     None\n",
      " ISA                  True\n",
      " Transpiled circuit   True\n",
      " Primitive:           Sampler\n",
      " Post-processing:     False\n",
      " Circuit layout:      [17, 25, 35, 24, 28, 26, 27, 44]\n",
      " Non-local gates:     405\n",
      " Transpilation strategy: External PassManager\n",
      " Primitive backend:   AerSimulator('aer_simulator'\n",
      "             noise_model=<NoiseModel on ['cz', 'measure', 'x', 'id', 'reset', 'sx']>)\n",
      "\n",
      "-2.9824066189372616\n"
     ]
    }
   ],
   "source": [
    "mol = pyscf.M(atom=\"\"\"H 0.0 0.0 0.0;\n",
    "                      H 1.5 0.0 0.0;\n",
    "                      H 0.0 1.8 0.0;\n",
    "                      H 1.5 1.8 0.0;\"\"\", basis=\"sto-3g\", unit=\"angstrom\")\n",
    "rhf = pyscf.scf.RHF(mol).run()\n",
    "\n",
    "sampler = Estimator()\n",
    "primitive = sampler\n",
    "mapper = JordanWignerMapper()\n",
    "# For H4 you can make the wavefunction better by increasing n_layers.\n",
    "# n_layers: 3 will prob. give almost the FCI solution.\n",
    "QI = QuantumInterface(primitive, \"tUPS\", mapper, ansatz_options={\"n_layers\": 3, \"do_pp\": True}, ISA = True)\n",
    "\n",
    "WF = WaveFunction(\n",
    "    mol.nao * 2,\n",
    "    mol.nelectron,\n",
    "    (4, 4),\n",
    "    rhf.mo_coeff,\n",
    "    mol.intor(\"int1e_kin\") + mol.intor(\"int1e_nuc\"),\n",
    "    mol.intor(\"int2e\"),\n",
    "    QI,\n",
    "    #include_active_kappa = True\n",
    ")\n",
    "WF.ansatz_parameters = optimized_parameters\n",
    "\n",
    "for i in range(len(optimized_parameters)):\n",
    "    if 0 < optimized_parameters[i] < np.pi/4:\n",
    "        WF.ansatz_parameters[i] = 0 \n",
    "    elif np.pi/4 < optimized_parameters[i] < (np.pi*3)/4:\n",
    "        WF.ansatz_parameters[i] = np.pi/2\n",
    "    elif (np.pi*3)/4 < optimized_parameters[i] < (np.pi*5)/4:\n",
    "        WF.ansatz_parameters[i] = np.pi\n",
    "    elif (np.pi*5)/4 < optimized_parameters[i] < (np.pi*7)/4:\n",
    "        WF.ansatz_parameters[i] = (np.pi*3)/2\n",
    "    elif (np.pi*7)/4 < optimized_parameters[i] < np.pi*2:\n",
    "        WF.ansatz_parameters[i] = 0\n",
    "    elif -np.pi/4 < optimized_parameters[i] < 0:\n",
    "        WF.ansatz_parameters[i] = 0\n",
    "    elif -(np.pi*3)/4 < optimized_parameters[i] < -np.pi/4:\n",
    "        WF.ansatz_parameters[i] = -np.pi/2\n",
    "    elif -(np.pi*5)/4 < optimized_parameters[i] < -(np.pi*3)/4:\n",
    "        WF.ansatz_parameters[i] = -np.pi\n",
    "    elif -(np.pi*7)/4 < optimized_parameters[i] < -(np.pi*5)/4:\n",
    "        WF.ansatz_parameters[i] = -(np.pi*3)/2\n",
    "    elif -np.pi*2 < optimized_parameters[i] < -(np.pi*7)/4:\n",
    "        WF.ansatz_parameters[i] = 0\n",
    "    \n",
    "    for n in range(9):\n",
    "        if i == 1 + 3*n:\n",
    "            m = optimized_parameters[i]/4\n",
    "            if 0 < m < np.pi/4:\n",
    "                m = 0\n",
    "                WF.ansatz_parameters[i] = 4 * m \n",
    "            elif np.pi/4 < m < (np.pi*3)/4:\n",
    "                m = np.pi/2\n",
    "                WF.ansatz_parameters[i] = 4 * m\n",
    "            elif (np.pi*3)/4 < m < (np.pi*5)/4:\n",
    "                m = np.pi\n",
    "                WF.ansatz_parameters[i] = 4 * m\n",
    "            elif -np.pi/4 < 0:\n",
    "                m = 0\n",
    "                WF.ansatz_parameters[i] = 4 * m\n",
    "            elif -(np.pi*3)/4 < m < -np.pi/4:\n",
    "                m = -np.pi/2\n",
    "                WF.ansatz_parameters[i] = 4 * m\n",
    "            elif -(np.pi*5)/4 < m < -(np.pi*3)/4:\n",
    "                m = -np.pi\n",
    "                WF.ansatz_parameters[i] = 4 * m\n",
    "\n",
    "print(WF.ansatz_parameters)\n",
    "\n",
    "clifford_ground_state_energy = WF.energy_elec\n",
    "print(clifford_ground_state_energy)\n",
    "\n",
    "backend = FakeTorino()\n",
    "QI.pass_manager = generate_preset_pass_manager(3,backend=backend,seed_transpiler=123) # seeded standard transpiler\n",
    "QI.do_postselection = False\n",
    "QI.do_M_mitigation = False\n",
    "noise_model = NoiseModel.from_backend(backend)\n",
    "sampler = Sampler(backend_options={\"noise_model\":noise_model})\n",
    "WF.change_primitive(sampler)\n",
    "noisy_clifford_ground_state_energy = WF.energy_elec\n",
    "print(noisy_clifford_ground_state_energy)"
   ]
  },
  {
   "cell_type": "code",
   "execution_count": 14,
   "metadata": {},
   "outputs": [
    {
     "name": "stdout",
     "output_type": "stream",
     "text": [
      "AS prediction: -3.475040570793034\n"
     ]
    }
   ],
   "source": [
    "AS_bias = noisy_nonclif_ground_state_energy + clifford_ground_state_energy - noisy_clifford_ground_state_energy\n",
    "print('AS prediction:', AS_bias)"
   ]
  },
  {
   "cell_type": "code",
   "execution_count": 15,
   "metadata": {},
   "outputs": [
    {
     "name": "stdout",
     "output_type": "stream",
     "text": [
      "-0.48075176715103973\n",
      "-0.23745679977479472\n"
     ]
    }
   ],
   "source": [
    "delta_zero = nonclif_ground_state_energy - AS_prediction\n",
    "delta_bias = nonclif_ground_state_energy - AS_bias\n",
    "print(delta_zero)\n",
    "print(delta_bias)"
   ]
  },
  {
   "cell_type": "code",
   "execution_count": 16,
   "metadata": {},
   "outputs": [
    {
     "data": {
      "image/png": "[encoded data removed]",
      "text/plain": [
       "<Figure size 640x480 with 1 Axes>"
      ]
     },
     "metadata": {},
     "output_type": "display_data"
    }
   ],
   "source": [
    "# 数据\n",
    "categories = ['Exact', 'AS-Zero', 'AS-Bias']\n",
    "values = [nonclif_ground_state_energy, AS_prediction, AS_bias]\n",
    "\n",
    "# 绘制柱状图\n",
    "plt.bar(categories, values, color='skyblue')\n",
    "\n",
    "# 添加标题和标签\n",
    "plt.title('CBGEM_H4')\n",
    "plt.xlabel('Regression Methods')\n",
    "plt.ylabel('Predict Results [Ha]')\n",
    "\n",
    "# 在每个柱子上标注数值\n",
    "for i, v in enumerate(values):\n",
    "    plt.text(i, v + 0.5, f\"{v:.7f}\", ha='center', fontsize=8)\n",
    "\n",
    "# 显示图表\n",
    "plt.show()"
   ]
  }
 ],
 "metadata": {
  "kernelspec": {
   "display_name": "myenv",
   "language": "python",
   "name": "python3"
  },
  "language_info": {
   "codemirror_mode": {
    "name": "ipython",
    "version": 3
   },
   "file_extension": ".py",
   "mimetype": "text/x-python",
   "name": "python",
   "nbconvert_exporter": "python",
   "pygments_lexer": "ipython3",
   "version": "3.12.4"
  }
 },
 "nbformat": 4,
 "nbformat_minor": 2
}
