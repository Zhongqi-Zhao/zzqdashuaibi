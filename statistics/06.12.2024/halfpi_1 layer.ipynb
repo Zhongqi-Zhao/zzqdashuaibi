{
 "cells": [
  {
   "cell_type": "code",
   "execution_count": 2,
   "metadata": {},
   "outputs": [],
   "source": [
    "import pyscf\n",
    "import slowquant.SlowQuant as sq\n",
    "from qiskit_nature.second_q.mappers import JordanWignerMapper\n",
    "from slowquant.qiskit_interface.interface import QuantumInterface\n",
    "from slowquant.qiskit_interface.wavefunction import WaveFunction\n",
    "from slowquant.unitary_coupled_cluster.ups_wavefunction import WaveFunctionUPS\n",
    "#from slowquant.qiskit_interface.linear_response.projected import quantumLR\n",
    "\n",
    "from qiskit_ibm_runtime.fake_provider import FakeTorino\n",
    "\n",
    "from qiskit.primitives import Estimator\n",
    "\n",
    "from qiskit_aer import AerSimulator\n",
    "from qiskit_aer.noise import NoiseModel\n",
    "from qiskit_aer.primitives import Sampler\n",
    "from qiskit_aer.primitives import SamplerV2\n",
    "\n",
    "from qiskit.transpiler.preset_passmanagers import generate_preset_pass_manager\n",
    "\n",
    "import numpy as np\n",
    "from scipy.optimize import minimize\n",
    "import itertools\n",
    "import random\n",
    "from scipy.optimize import curve_fit\n",
    "from sklearn.neural_network import MLPRegressor\n",
    "from sklearn.preprocessing import StandardScaler\n",
    "from xgboost import XGBRegressor\n",
    "\n",
    "import matplotlib.pyplot as plt\n",
    "import heapq"
   ]
  },
  {
   "cell_type": "code",
   "execution_count": 11,
   "metadata": {},
   "outputs": [
    {
     "name": "stdout",
     "output_type": "stream",
     "text": [
      "converged SCF energy = -1.77674731624872\n"
     ]
    },
    {
     "name": "stdout",
     "output_type": "stream",
     "text": [
      "Number of shots is None. Ideal simulator is assumed.\n",
      "You selected ISA but did not pass a PassManager. Standard internal transpilation will use backend None with optimization level 3\n",
      "Full optimization\n",
      "Iteration # | Iteration time [s] | Electronic energy [Hartree]\n",
      "--------Ansatz optimization\n",
      "--------Iteration # | Iteration time [s] | Electronic energy [Hartree]\n"
     ]
    },
    {
     "name": "stderr",
     "output_type": "stream",
     "text": [
      "/tmp/ipykernel_669176/3974532165.py:7: DeprecationWarning: The class ``qiskit.primitives.estimator.Estimator`` is deprecated as of qiskit 1.2. It will be removed no earlier than 3 months after the release date. All implementations of the `BaseEstimatorV1` interface have been deprecated in favor of their V2 counterparts. The V2 alternative for the `Estimator` class is `StatevectorEstimator`.\n",
      "  sampler = Estimator()\n"
     ]
    },
    {
     "name": "stdout",
     "output_type": "stream",
     "text": [
      "--------     1      |        16.79       |     -3.5534864802975159    \n",
      "--------     2      |        16.73       |     -3.5829207758700985    \n",
      "--------     3      |        16.70       |     -3.5844408552283911    \n",
      "Full optimization\n",
      "Iteration # | Iteration time [s] | Electronic energy [Hartree]\n",
      "--------Ansatz optimization\n",
      "--------Iteration # | Iteration time [s] | Electronic energy [Hartree]\n",
      "--------     1      |         6.22       |     -3.5845371988525310    \n",
      "--------     2      |         6.11       |     -3.5845686529219343    \n",
      "--------     3      |         6.16       |     -3.5845806681498735    \n",
      "--------     4      |         6.12       |     -3.5845809600373078    \n",
      "--------     5      |         6.11       |     -3.5845809668916440    \n",
      "Non-Clifford Ground state energy: -3.584580966891644\n",
      "Using this function is only recommended for switching from ideal simulator to shot-noise or quantum hardware.\n",
      "                 Multiple switching back and forth can lead to un-expected outcomes and is an experimental feature.\n",
      "\n",
      "Reset RDMs, energies, and QI metrics.\n",
      "Number of shots is None. Ideal simulator is assumed.\n",
      "Your settings are:\n",
      " Ansatz:              tUPS\n",
      " Number of shots:     None\n",
      " ISA                  True\n",
      " Transpiled circuit   True\n",
      " Primitive:           Sampler\n",
      " Post-processing:     False\n",
      " Circuit layout:      [17, 25, 35, 24, 28, 26, 27, 44]\n",
      " Non-local gates:     135\n",
      " Transpilation strategy: External PassManager\n",
      " Primitive backend:   AerSimulator('aer_simulator'\n",
      "             noise_model=<NoiseModel on ['cz', 'x', 'id', 'reset', 'measure', 'sx']>)\n",
      "\n",
      "Noisy Non-Clifford Ground state energy: -3.36305443565406\n"
     ]
    }
   ],
   "source": [
    "mol = pyscf.M(atom=\"\"\"H 0.0 0.0 0.0;\n",
    "                      H 1.5 0.0 0.0;\n",
    "                      H 0.0 1.8 0.0;\n",
    "                      H 1.5 1.8 0.0;\"\"\", basis=\"sto-3g\", unit=\"angstrom\")\n",
    "rhf = pyscf.scf.RHF(mol).run()\n",
    "\n",
    "sampler = Estimator()\n",
    "primitive = sampler\n",
    "mapper = JordanWignerMapper()\n",
    "# For H4 you can make the wavefunction better by increasing n_layers.\n",
    "# n_layers: 3 will prob. give almost the FCI solution.\n",
    "QI = QuantumInterface(primitive, \"tUPS\", mapper, ansatz_options={\"n_layers\": 1, \"do_pp\": True}, ISA = True)\n",
    "\n",
    "WF = WaveFunction(\n",
    "    mol.nao * 2,\n",
    "    mol.nelectron,\n",
    "    (4, 4),\n",
    "    rhf.mo_coeff,\n",
    "    mol.intor(\"int1e_kin\") + mol.intor(\"int1e_nuc\"),\n",
    "    mol.intor(\"int2e\"),\n",
    "    QI,\n",
    "    #include_active_kappa = True\n",
    ")\n",
    "\n",
    "WF.run_vqe_2step(\"RotoSolve\", maxiter=3)\n",
    "WF.run_vqe_2step(\"SLSQP\", maxiter=40)\n",
    "#WF.ansatz_parameters = [3.142800380570141, 2.802123553483023, 3.141844220036336, 3.1415016877195234, 2.7699109323169533, 3.140289037489865, 1.5722892785591813, -0.05183267369041262, -3.139930460730367, -3.05193091891377, 0.07499512879186974, 0.26977250393898994, -2.875485939584386, -0.18478422435886988, 0.21835082743355141, -3.145279642647945, 0.2027868009455131, 3.141049426792193, -2.802097303067954, -0.20245039509840054, 0.14415193008627167, 0.24779481988227897, -0.04867618752527981, -3.0111535837495227, -3.1367777510378136, -0.21605050555915123, -3.14472880076259]\n",
    "optimized_parameters = WF.ansatz_parameters\n",
    "#no noise\n",
    "nonclif_ground_state_energy = WF.energy_elec\n",
    "print(\"Non-Clifford Ground state energy:\", nonclif_ground_state_energy)\n",
    "\n",
    "#device noise\n",
    "# Update the primitive with simulated noise\n",
    "backend = FakeTorino()\n",
    "QI.pass_manager = generate_preset_pass_manager(3,backend=backend,seed_transpiler=123) # seeded standard transpiler\n",
    "QI.do_postselection = False\n",
    "QI.do_M_mitigation = False\n",
    "noise_model = NoiseModel.from_backend(backend)\n",
    "sampler = Sampler(backend_options={\"noise_model\":noise_model})\n",
    "WF.change_primitive(sampler)    \n",
    "# Calculate the ground state energy using the noisy simulator\n",
    "noisy_nonclif_ground_state_energy = WF.energy_elec\n",
    "print(\"Noisy Non-Clifford Ground state energy:\",noisy_nonclif_ground_state_energy)"
   ]
  },
  {
   "cell_type": "code",
   "execution_count": 3,
   "metadata": {},
   "outputs": [
    {
     "name": "stdout",
     "output_type": "stream",
     "text": [
      "[3.1415926535865144, -0.16027725679287372, 3.141592653585989, 3.1415926535934684, -0.17940404049528347, 3.1415926535940724, 1.5707962290294233, -0.16028326544864677, 3.141592504818808]\n"
     ]
    }
   ],
   "source": [
    "print(WF.ansatz_parameters)"
   ]
  },
  {
   "cell_type": "code",
   "execution_count": 4,
   "metadata": {},
   "outputs": [
    {
     "name": "stdout",
     "output_type": "stream",
     "text": [
      "[1.5707963267948966, 6.283185307179586, 1.5707963267948966, 1.5707963267948966, 6.283185307179586, 1.5707963267948966, 1.5707963267948966, 6.283185307179586, 1.5707963267948966]\n"
     ]
    }
   ],
   "source": [
    "for i in range(len(optimized_parameters)):\n",
    "    m = np.pi/2\n",
    "    WF.ansatz_parameters[i] = m\n",
    "    for n in range(9):\n",
    "        if i == 1 + 3*n:\n",
    "            WF.ansatz_parameters[i] = 4*m\n",
    "\n",
    "print(WF.ansatz_parameters)"
   ]
  },
  {
   "cell_type": "code",
   "execution_count": 12,
   "metadata": {},
   "outputs": [
    {
     "name": "stdout",
     "output_type": "stream",
     "text": [
      "converged SCF energy = -1.77674731624872\n"
     ]
    },
    {
     "name": "stdout",
     "output_type": "stream",
     "text": [
      "Number of shots is None. Ideal simulator is assumed.\n",
      "You selected ISA but did not pass a PassManager. Standard internal transpilation will use backend None with optimization level 3\n",
      "-3.289581357882598\n"
     ]
    },
    {
     "name": "stderr",
     "output_type": "stream",
     "text": [
      "/tmp/ipykernel_669176/2572658892.py:7: DeprecationWarning: The class ``qiskit.primitives.estimator.Estimator`` is deprecated as of qiskit 1.2. It will be removed no earlier than 3 months after the release date. All implementations of the `BaseEstimatorV1` interface have been deprecated in favor of their V2 counterparts. The V2 alternative for the `Estimator` class is `StatevectorEstimator`.\n",
      "  sampler = Estimator()\n"
     ]
    },
    {
     "name": "stdout",
     "output_type": "stream",
     "text": [
      "Using this function is only recommended for switching from ideal simulator to shot-noise or quantum hardware.\n",
      "                 Multiple switching back and forth can lead to un-expected outcomes and is an experimental feature.\n",
      "\n",
      "Reset RDMs, energies, and QI metrics.\n",
      "Number of shots is None. Ideal simulator is assumed.\n",
      "Your settings are:\n",
      " Ansatz:              tUPS\n",
      " Number of shots:     None\n",
      " ISA                  True\n",
      " Transpiled circuit   True\n",
      " Primitive:           Sampler\n",
      " Post-processing:     False\n",
      " Circuit layout:      [17, 25, 35, 24, 28, 26, 27, 44]\n",
      " Non-local gates:     135\n",
      " Transpilation strategy: External PassManager\n",
      " Primitive backend:   AerSimulator('aer_simulator'\n",
      "             noise_model=<NoiseModel on ['cz', 'x', 'id', 'reset', 'measure', 'sx']>)\n",
      "\n",
      "exact: -3.289581357882598\n",
      "noisy: -3.1485218507061687\n"
     ]
    }
   ],
   "source": [
    "mol = pyscf.M(atom=\"\"\"H 0.0 0.0 0.0;\n",
    "                      H 1.5 0.0 0.0;\n",
    "                      H 0.0 1.8 0.0;\n",
    "                      H 1.5 1.8 0.0;\"\"\", basis=\"sto-3g\", unit=\"angstrom\")\n",
    "rhf = pyscf.scf.RHF(mol).run()\n",
    "\n",
    "sampler = Estimator()\n",
    "primitive = sampler\n",
    "mapper = JordanWignerMapper()\n",
    "# For H4 you can make the wavefunction better by increasing n_layers.\n",
    "# n_layers: 3 will prob. give almost the FCI solution.\n",
    "QI = QuantumInterface(primitive, \"tUPS\", mapper, ansatz_options={\"n_layers\": 1, \"do_pp\": True}, ISA = True)\n",
    "\n",
    "WF = WaveFunction(\n",
    "    mol.nao * 2,\n",
    "    mol.nelectron,\n",
    "    (4, 4),\n",
    "    rhf.mo_coeff,\n",
    "    mol.intor(\"int1e_kin\") + mol.intor(\"int1e_nuc\"),\n",
    "    mol.intor(\"int2e\"),\n",
    "    QI,\n",
    "    #include_active_kappa = True\n",
    ")\n",
    "WF.ansatz_parameters = [1.5707963267948966, 6.283185307179586, 1.5707963267948966, 1.5707963267948966, 6.283185307179586, 1.5707963267948966, 1.5707963267948966, 6.283185307179586, 1.5707963267948966]\n",
    "#WF.ansatz_parameters = [np.pi/2 for _ in range(9)]\n",
    "clifford_ground_state_energy = WF.energy_elec\n",
    "print(clifford_ground_state_energy)\n",
    "\n",
    "backend = FakeTorino()\n",
    "QI.pass_manager = generate_preset_pass_manager(3,backend=backend,seed_transpiler=123) # seeded standard transpiler\n",
    "QI.do_postselection = False\n",
    "QI.do_M_mitigation = False\n",
    "noise_model = NoiseModel.from_backend(backend)\n",
    "sampler = Sampler(backend_options={\"noise_model\":noise_model})\n",
    "WF.change_primitive(sampler)\n",
    "noisy_clifford_ground_state_energy = WF.energy_elec\n",
    "print('exact:', clifford_ground_state_energy)\n",
    "print('noisy:', noisy_clifford_ground_state_energy)"
   ]
  },
  {
   "cell_type": "code",
   "execution_count": 13,
   "metadata": {},
   "outputs": [
    {
     "name": "stdout",
     "output_type": "stream",
     "text": [
      "converged SCF energy = -1.77674731624872\n",
      "Number of shots is None. Ideal simulator is assumed.\n",
      "You selected ISA but did not pass a PassManager. Standard internal transpilation will use backend None with optimization level 3\n",
      "Full optimization\n",
      "Iteration # | Iteration time [s] | Electronic energy [Hartree]\n",
      "--------Ansatz optimization\n",
      "--------Iteration # | Iteration time [s] | Electronic energy [Hartree]\n"
     ]
    },
    {
     "name": "stderr",
     "output_type": "stream",
     "text": [
      "/tmp/ipykernel_669176/3233408176.py:7: DeprecationWarning: The class ``qiskit.primitives.estimator.Estimator`` is deprecated as of qiskit 1.2. It will be removed no earlier than 3 months after the release date. All implementations of the `BaseEstimatorV1` interface have been deprecated in favor of their V2 counterparts. The V2 alternative for the `Estimator` class is `StatevectorEstimator`.\n",
      "  sampler = Estimator()\n"
     ]
    },
    {
     "name": "stdout",
     "output_type": "stream",
     "text": [
      "--------     1      |        34.51       |     -3.5535111635354757    \n",
      "--------     2      |        34.99       |     -3.5832909529165948    \n",
      "--------     3      |        34.81       |     -3.5859795034945612    \n",
      "Full optimization\n",
      "Iteration # | Iteration time [s] | Electronic energy [Hartree]\n",
      "--------Ansatz optimization\n",
      "--------Iteration # | Iteration time [s] | Electronic energy [Hartree]\n",
      "--------     1      |        13.38       |     -3.5863447190015556    \n",
      "--------     2      |        13.26       |     -3.5865664095879590    \n",
      "--------     3      |        13.26       |     -3.5866533573327861    \n",
      "--------     4      |        13.26       |     -3.5868952955885405    \n",
      "--------     5      |        13.25       |     -3.5872882850862267    \n",
      "--------     6      |        13.23       |     -3.5876506083163373    \n",
      "--------     7      |        13.27       |     -3.5877101877749880    \n",
      "--------     8      |        13.26       |     -3.5877227982728654    \n",
      "--------     9      |        13.31       |     -3.5878457578133194    \n",
      "--------     10     |        13.19       |     -3.5881609340482292    \n",
      "--------     11     |        13.76       |     -3.5884766864183475    \n",
      "--------     12     |        13.29       |     -3.5885593749893596    \n",
      "--------     13     |        13.29       |     -3.5883700622601138    \n",
      "--------     14     |        13.38       |     -3.5885745746691531    \n",
      "--------     15     |        13.41       |     -3.5886039664480518    \n",
      "--------     16     |        13.28       |     -3.5886105095183756    \n",
      "--------     17     |        13.31       |     -3.5886113119336569    \n",
      "--------     18     |        13.37       |     -3.5886259920448191    \n",
      "--------     19     |        13.36       |     -3.5769809665012611    \n",
      "--------     20     |        13.47       |     -2.6778136736441822    \n",
      "--------     21     |        13.59       |     -2.8557832403173355    \n",
      "--------     22     |        13.71       |     -3.5890719593429261    \n",
      "--------     23     |        13.46       |     -3.5911532470158902    \n",
      "--------     24     |        13.35       |     -3.2516029854142130    \n",
      "--------     25     |        13.44       |     -3.5945803883841414    \n",
      "--------     26     |        13.35       |     -3.6134793301443415    \n",
      "--------     27     |        13.48       |     -3.6655698031399249    \n",
      "--------     28     |        13.27       |     -3.6771860820855982    \n",
      "--------     29     |        13.26       |     -3.6990973864474124    \n",
      "--------     30     |        13.80       |     -3.6834697930487010    \n",
      "--------     31     |        13.32       |     -3.6999858081468933    \n",
      "--------     32     |        13.39       |     -3.7114483714451896    \n",
      "--------     33     |        13.36       |     -3.7117058606463758    \n",
      "--------     34     |        13.81       |     -3.7118804429399956    \n",
      "--------     35     |        13.41       |     -3.7119798085644975    \n",
      "--------     36     |        13.31       |     -3.7120692452510418    \n",
      "--------     37     |        13.46       |     -3.7121330796163288    \n",
      "--------     38     |        13.42       |     -3.7122135295479790    \n",
      "--------     39     |        13.40       |     -3.7122401858196663    \n",
      "--------     40     |        13.28       |     -3.7122401858196663    \n",
      "Non-Clifford Ground state energy: -3.7122401858196663\n",
      "Using this function is only recommended for switching from ideal simulator to shot-noise or quantum hardware.\n",
      "                 Multiple switching back and forth can lead to un-expected outcomes and is an experimental feature.\n",
      "\n",
      "Reset RDMs, energies, and QI metrics.\n",
      "Number of shots is None. Ideal simulator is assumed.\n",
      "Your settings are:\n",
      " Ansatz:              tUPS\n",
      " Number of shots:     None\n",
      " ISA                  True\n",
      " Transpiled circuit   True\n",
      " Primitive:           Sampler\n",
      " Post-processing:     False\n",
      " Circuit layout:      [17, 25, 35, 24, 28, 26, 27, 44]\n",
      " Non-local gates:     270\n",
      " Transpilation strategy: External PassManager\n",
      " Primitive backend:   AerSimulator('aer_simulator'\n",
      "             noise_model=<NoiseModel on ['cz', 'x', 'id', 'reset', 'measure', 'sx']>)\n",
      "\n",
      "Noisy Non-Clifford Ground state energy: -3.1030324260618136\n"
     ]
    }
   ],
   "source": [
    "mol = pyscf.M(atom=\"\"\"H 0.0 0.0 0.0;\n",
    "                      H 1.5 0.0 0.0;\n",
    "                      H 0.0 1.8 0.0;\n",
    "                      H 1.5 1.8 0.0;\"\"\", basis=\"sto-3g\", unit=\"angstrom\")\n",
    "rhf = pyscf.scf.RHF(mol).run()\n",
    "\n",
    "sampler = Estimator()\n",
    "primitive = sampler\n",
    "mapper = JordanWignerMapper()\n",
    "# For H4 you can make the wavefunction better by increasing n_layers.\n",
    "# n_layers: 3 will prob. give almost the FCI solution.\n",
    "QI = QuantumInterface(primitive, \"tUPS\", mapper, ansatz_options={\"n_layers\": 2, \"do_pp\": True}, ISA = True)\n",
    "\n",
    "WF = WaveFunction(\n",
    "    mol.nao * 2,\n",
    "    mol.nelectron,\n",
    "    (4, 4),\n",
    "    rhf.mo_coeff,\n",
    "    mol.intor(\"int1e_kin\") + mol.intor(\"int1e_nuc\"),\n",
    "    mol.intor(\"int2e\"),\n",
    "    QI,\n",
    "    #include_active_kappa = True\n",
    ")\n",
    "\n",
    "#WF.run_vqe_2step(\"RotoSolve\", maxiter=3)\n",
    "#WF.run_vqe_2step(\"SLSQP\", maxiter=40)\n",
    "WF.ansatz_parameters = [3.149292243857527, 2.7959119978771727, 3.149309991378343, -3.149408938522492, -0.34778596661917566, 3.1457594688862214, -1.6618954100368926, 0.05158209484284317, 3.238589976193641, -2.7513559843586957, -0.08687242149566897, 3.5388840968045137, 2.8029677052395936, -0.024123584231435992, 2.695058906228867, -3.163427097555806, -0.15200969007831952, 3.158390745058286]\n",
    "optimized_parameters = WF.ansatz_parameters\n",
    "#no noise\n",
    "nonclif_ground_state_energy = WF.energy_elec\n",
    "print(\"Non-Clifford Ground state energy:\", nonclif_ground_state_energy)\n",
    "\n",
    "#device noise\n",
    "# Update the primitive with simulated noise\n",
    "backend = FakeTorino()\n",
    "QI.pass_manager = generate_preset_pass_manager(3,backend=backend,seed_transpiler=123) # seeded standard transpiler\n",
    "QI.do_postselection = False\n",
    "QI.do_M_mitigation = False\n",
    "noise_model = NoiseModel.from_backend(backend)\n",
    "sampler = Sampler(backend_options={\"noise_model\":noise_model})\n",
    "WF.change_primitive(sampler)    \n",
    "# Calculate the ground state energy using the noisy simulator\n",
    "noisy_nonclif_ground_state_energy = WF.energy_elec\n",
    "print(\"Noisy Non-Clifford Ground state energy:\",noisy_nonclif_ground_state_energy)"
   ]
  },
  {
   "cell_type": "code",
   "execution_count": 15,
   "metadata": {},
   "outputs": [
    {
     "name": "stdout",
     "output_type": "stream",
     "text": [
      "18\n"
     ]
    }
   ],
   "source": [
    "print(len(WF.ansatz_parameters))"
   ]
  },
  {
   "cell_type": "code",
   "execution_count": 16,
   "metadata": {},
   "outputs": [
    {
     "name": "stdout",
     "output_type": "stream",
     "text": [
      "[1.5707963267948966, 6.283185307179586, 1.5707963267948966, 1.5707963267948966, 6.283185307179586, 1.5707963267948966, 1.5707963267948966, 6.283185307179586, 1.5707963267948966, 1.5707963267948966, 6.283185307179586, 1.5707963267948966, 1.5707963267948966, 6.283185307179586, 1.5707963267948966, 1.5707963267948966, 6.283185307179586, 1.5707963267948966]\n"
     ]
    }
   ],
   "source": [
    "for i in range(len(optimized_parameters)):\n",
    "    m = np.pi/2\n",
    "    WF.ansatz_parameters[i] = m\n",
    "    for n in range(9):\n",
    "        if i == 1 + 3*n:\n",
    "            WF.ansatz_parameters[i] = 4*m\n",
    "\n",
    "print(WF.ansatz_parameters)"
   ]
  },
  {
   "cell_type": "code",
   "execution_count": 4,
   "metadata": {},
   "outputs": [
    {
     "name": "stdout",
     "output_type": "stream",
     "text": [
      "converged SCF energy = -1.77674731624872\n"
     ]
    },
    {
     "name": "stdout",
     "output_type": "stream",
     "text": [
      "Number of shots is None. Ideal simulator is assumed.\n",
      "You selected ISA but did not pass a PassManager. Standard internal transpilation will use backend None with optimization level 3\n"
     ]
    },
    {
     "name": "stderr",
     "output_type": "stream",
     "text": [
      "/tmp/ipykernel_776274/622673437.py:7: DeprecationWarning: The class ``qiskit.primitives.estimator.Estimator`` is deprecated as of qiskit 1.2. It will be removed no earlier than 3 months after the release date. All implementations of the `BaseEstimatorV1` interface have been deprecated in favor of their V2 counterparts. The V2 alternative for the `Estimator` class is `StatevectorEstimator`.\n",
      "  sampler = Estimator()\n"
     ]
    },
    {
     "name": "stdout",
     "output_type": "stream",
     "text": [
      "-2.649219076334765\n",
      "Using this function is only recommended for switching from ideal simulator to shot-noise or quantum hardware.\n",
      "                 Multiple switching back and forth can lead to un-expected outcomes and is an experimental feature.\n",
      "\n",
      "Reset RDMs, energies, and QI metrics.\n",
      "Number of shots is None. Ideal simulator is assumed.\n",
      "Your settings are:\n",
      " Ansatz:              tUPS\n",
      " Number of shots:     None\n",
      " ISA                  True\n",
      " Transpiled circuit   True\n",
      " Primitive:           Sampler\n",
      " Post-processing:     False\n",
      " Circuit layout:      [17, 25, 35, 24, 28, 26, 27, 44]\n",
      " Non-local gates:     270\n",
      " Transpilation strategy: External PassManager\n",
      " Primitive backend:   AerSimulator('aer_simulator'\n",
      "             noise_model=<NoiseModel on ['measure', 'id', 'cz', 'sx', 'x', 'reset']>)\n",
      "\n",
      "exact: -2.649219076334765\n",
      "noisy: -2.573071328282566\n"
     ]
    }
   ],
   "source": [
    "mol = pyscf.M(atom=\"\"\"H 0.0 0.0 0.0;\n",
    "                      H 1.5 0.0 0.0;\n",
    "                      H 0.0 1.8 0.0;\n",
    "                      H 1.5 1.8 0.0;\"\"\", basis=\"sto-3g\", unit=\"angstrom\")\n",
    "rhf = pyscf.scf.RHF(mol).run()\n",
    "\n",
    "sampler = Estimator()\n",
    "primitive = sampler\n",
    "mapper = JordanWignerMapper()\n",
    "# For H4 you can make the wavefunction better by increasing n_layers.\n",
    "# n_layers: 3 will prob. give almost the FCI solution.\n",
    "QI = QuantumInterface(primitive, \"tUPS\", mapper, ansatz_options={\"n_layers\": 2, \"do_pp\": True}, ISA = True)\n",
    "\n",
    "WF = WaveFunction(\n",
    "    mol.nao * 2,\n",
    "    mol.nelectron,\n",
    "    (4, 4),\n",
    "    rhf.mo_coeff,\n",
    "    mol.intor(\"int1e_kin\") + mol.intor(\"int1e_nuc\"),\n",
    "    mol.intor(\"int2e\"),\n",
    "    QI,\n",
    "    #include_active_kappa = True\n",
    ")\n",
    "#WF.ansatz_parameters = [1.5707963267948966, 6.283185307179586, 1.5707963267948966, 1.5707963267948966, 6.283185307179586, 1.5707963267948966, 1.5707963267948966, 6.283185307179586, 1.5707963267948966, 1.5707963267948966, 6.283185307179586, 1.5707963267948966, 1.5707963267948966, 6.283185307179586, 1.5707963267948966, 1.5707963267948966, 6.283185307179586, 1.5707963267948966]\n",
    "WF.ansatz_parameters = [np.pi/2 for _ in range(18)]\n",
    "clifford_ground_state_energy = WF.energy_elec\n",
    "print(clifford_ground_state_energy)\n",
    "\n",
    "backend = FakeTorino()\n",
    "QI.pass_manager = generate_preset_pass_manager(3,backend=backend,seed_transpiler=123) # seeded standard transpiler\n",
    "QI.do_postselection = False\n",
    "QI.do_M_mitigation = False\n",
    "noise_model = NoiseModel.from_backend(backend)\n",
    "sampler = Sampler(backend_options={\"noise_model\":noise_model})\n",
    "WF.change_primitive(sampler)\n",
    "noisy_clifford_ground_state_energy = WF.energy_elec\n",
    "print('exact:', clifford_ground_state_energy)\n",
    "print('noisy:', noisy_clifford_ground_state_energy)"
   ]
  },
  {
   "cell_type": "code",
   "execution_count": 19,
   "metadata": {},
   "outputs": [
    {
     "name": "stdout",
     "output_type": "stream",
     "text": [
      "converged SCF energy = -1.77674731624872\n"
     ]
    },
    {
     "name": "stdout",
     "output_type": "stream",
     "text": [
      "Number of shots is None. Ideal simulator is assumed.\n",
      "You selected ISA but did not pass a PassManager. Standard internal transpilation will use backend None with optimization level 3\n"
     ]
    },
    {
     "name": "stderr",
     "output_type": "stream",
     "text": [
      "/tmp/ipykernel_669176/3359661477.py:7: DeprecationWarning: The class ``qiskit.primitives.estimator.Estimator`` is deprecated as of qiskit 1.2. It will be removed no earlier than 3 months after the release date. All implementations of the `BaseEstimatorV1` interface have been deprecated in favor of their V2 counterparts. The V2 alternative for the `Estimator` class is `StatevectorEstimator`.\n",
      "  sampler = Estimator()\n"
     ]
    },
    {
     "name": "stdout",
     "output_type": "stream",
     "text": [
      "Non-Clifford Ground state energy: -3.712497370567829\n",
      "Using this function is only recommended for switching from ideal simulator to shot-noise or quantum hardware.\n",
      "                 Multiple switching back and forth can lead to un-expected outcomes and is an experimental feature.\n",
      "\n",
      "Reset RDMs, energies, and QI metrics.\n",
      "Number of shots is None. Ideal simulator is assumed.\n",
      "Your settings are:\n",
      " Ansatz:              tUPS\n",
      " Number of shots:     None\n",
      " ISA                  True\n",
      " Transpiled circuit   True\n",
      " Primitive:           Sampler\n",
      " Post-processing:     False\n",
      " Circuit layout:      [17, 25, 35, 24, 28, 26, 27, 44]\n",
      " Non-local gates:     405\n",
      " Transpilation strategy: External PassManager\n",
      " Primitive backend:   AerSimulator('aer_simulator'\n",
      "             noise_model=<NoiseModel on ['cz', 'x', 'id', 'reset', 'measure', 'sx']>)\n",
      "\n",
      "Noisy Non-Clifford Ground state energy: -2.9354609200029995\n"
     ]
    }
   ],
   "source": [
    "mol = pyscf.M(atom=\"\"\"H 0.0 0.0 0.0;\n",
    "                      H 1.5 0.0 0.0;\n",
    "                      H 0.0 1.8 0.0;\n",
    "                      H 1.5 1.8 0.0;\"\"\", basis=\"sto-3g\", unit=\"angstrom\")\n",
    "rhf = pyscf.scf.RHF(mol).run()\n",
    "\n",
    "sampler = Estimator()\n",
    "primitive = sampler\n",
    "mapper = JordanWignerMapper()\n",
    "# For H4 you can make the wavefunction better by increasing n_layers.\n",
    "# n_layers: 3 will prob. give almost the FCI solution.\n",
    "QI = QuantumInterface(primitive, \"tUPS\", mapper, ansatz_options={\"n_layers\": 3, \"do_pp\": True}, ISA = True)\n",
    "\n",
    "WF = WaveFunction(\n",
    "    mol.nao * 2,\n",
    "    mol.nelectron,\n",
    "    (4, 4),\n",
    "    rhf.mo_coeff,\n",
    "    mol.intor(\"int1e_kin\") + mol.intor(\"int1e_nuc\"),\n",
    "    mol.intor(\"int2e\"),\n",
    "    QI,\n",
    "    include_active_kappa = True\n",
    ")\n",
    "\n",
    "#WF.run_vqe_2step(\"RotoSolve\", maxiter=3)\n",
    "#WF.run_vqe_2step(\"SLSQP\", maxiter=40)\n",
    "WF.ansatz_parameters = [3.142800380570141, 2.802123553483023, 3.141844220036336, 3.1415016877195234, 2.7699109323169533, 3.140289037489865, 1.5722892785591813, -0.05183267369041262, -3.139930460730367, -3.05193091891377, 0.07499512879186974, 0.26977250393898994, -2.875485939584386, -0.18478422435886988, 0.21835082743355141, -3.145279642647945, 0.2027868009455131, 3.141049426792193, -2.802097303067954, -0.20245039509840054, 0.14415193008627167, 0.24779481988227897, -0.04867618752527981, -3.0111535837495227, -3.1367777510378136, -0.21605050555915123, -3.14472880076259]\n",
    "optimized_parameters = WF.ansatz_parameters\n",
    "#no noise\n",
    "nonclif_ground_state_energy = WF.energy_elec\n",
    "print(\"Non-Clifford Ground state energy:\", nonclif_ground_state_energy)\n",
    "\n",
    "#device noise\n",
    "# Update the primitive with simulated noise\n",
    "backend = FakeTorino()\n",
    "QI.pass_manager = generate_preset_pass_manager(3,backend=backend,seed_transpiler=123) # seeded standard transpiler\n",
    "QI.do_postselection = False\n",
    "QI.do_M_mitigation = False\n",
    "noise_model = NoiseModel.from_backend(backend)\n",
    "sampler = Sampler(backend_options={\"noise_model\":noise_model})\n",
    "WF.change_primitive(sampler)    \n",
    "# Calculate the ground state energy using the noisy simulator\n",
    "noisy_nonclif_ground_state_energy = WF.energy_elec\n",
    "print(\"Noisy Non-Clifford Ground state energy:\",noisy_nonclif_ground_state_energy)"
   ]
  },
  {
   "cell_type": "code",
   "execution_count": 20,
   "metadata": {},
   "outputs": [
    {
     "name": "stdout",
     "output_type": "stream",
     "text": [
      "[1.5707963267948966, 6.283185307179586, 1.5707963267948966, 1.5707963267948966, 6.283185307179586, 1.5707963267948966, 1.5707963267948966, 6.283185307179586, 1.5707963267948966, 1.5707963267948966, 6.283185307179586, 1.5707963267948966, 1.5707963267948966, 6.283185307179586, 1.5707963267948966, 1.5707963267948966, 6.283185307179586, 1.5707963267948966, 1.5707963267948966, 6.283185307179586, 1.5707963267948966, 1.5707963267948966, 6.283185307179586, 1.5707963267948966, 1.5707963267948966, 6.283185307179586, 1.5707963267948966]\n"
     ]
    }
   ],
   "source": [
    "for i in range(len(optimized_parameters)):\n",
    "    m = np.pi/2\n",
    "    WF.ansatz_parameters[i] = m\n",
    "    for n in range(9):\n",
    "        if i == 1 + 3*n:\n",
    "            WF.ansatz_parameters[i] = 4*m\n",
    "\n",
    "print(WF.ansatz_parameters)"
   ]
  },
  {
   "cell_type": "code",
   "execution_count": 26,
   "metadata": {},
   "outputs": [
    {
     "name": "stdout",
     "output_type": "stream",
     "text": [
      "converged SCF energy = -1.77674731624872\n"
     ]
    },
    {
     "name": "stdout",
     "output_type": "stream",
     "text": [
      "Number of shots is None. Ideal simulator is assumed.\n",
      "You selected ISA but did not pass a PassManager. Standard internal transpilation will use backend None with optimization level 3\n"
     ]
    },
    {
     "name": "stderr",
     "output_type": "stream",
     "text": [
      "/tmp/ipykernel_669176/3767076428.py:7: DeprecationWarning: The class ``qiskit.primitives.estimator.Estimator`` is deprecated as of qiskit 1.2. It will be removed no earlier than 3 months after the release date. All implementations of the `BaseEstimatorV1` interface have been deprecated in favor of their V2 counterparts. The V2 alternative for the `Estimator` class is `StatevectorEstimator`.\n",
      "  sampler = Estimator()\n"
     ]
    },
    {
     "name": "stdout",
     "output_type": "stream",
     "text": [
      "-3.2895813578825837\n",
      "Using this function is only recommended for switching from ideal simulator to shot-noise or quantum hardware.\n",
      "                 Multiple switching back and forth can lead to un-expected outcomes and is an experimental feature.\n",
      "\n",
      "Reset RDMs, energies, and QI metrics.\n",
      "Number of shots is None. Ideal simulator is assumed.\n",
      "Your settings are:\n",
      " Ansatz:              tUPS\n",
      " Number of shots:     None\n",
      " ISA                  True\n",
      " Transpiled circuit   True\n",
      " Primitive:           Sampler\n",
      " Post-processing:     False\n",
      " Circuit layout:      [17, 25, 35, 24, 28, 26, 27, 44]\n",
      " Non-local gates:     405\n",
      " Transpilation strategy: External PassManager\n",
      " Primitive backend:   AerSimulator('aer_simulator'\n",
      "             noise_model=<NoiseModel on ['cz', 'x', 'id', 'reset', 'measure', 'sx']>)\n",
      "\n",
      "exact: -3.2895813578825837\n",
      "noisy: -2.961345501868496\n"
     ]
    }
   ],
   "source": [
    "mol = pyscf.M(atom=\"\"\"H 0.0 0.0 0.0;\n",
    "                      H 1.5 0.0 0.0;\n",
    "                      H 0.0 1.8 0.0;\n",
    "                      H 1.5 1.8 0.0;\"\"\", basis=\"sto-3g\", unit=\"angstrom\")\n",
    "rhf = pyscf.scf.RHF(mol).run()\n",
    "\n",
    "sampler = Estimator()\n",
    "primitive = sampler\n",
    "mapper = JordanWignerMapper()\n",
    "# For H4 you can make the wavefunction better by increasing n_layers.\n",
    "# n_layers: 3 will prob. give almost the FCI solution.\n",
    "QI = QuantumInterface(primitive, \"tUPS\", mapper, ansatz_options={\"n_layers\": 3, \"do_pp\": True}, ISA = True)\n",
    "\n",
    "WF = WaveFunction(\n",
    "    mol.nao * 2,\n",
    "    mol.nelectron,\n",
    "    (4, 4),\n",
    "    rhf.mo_coeff,\n",
    "    mol.intor(\"int1e_kin\") + mol.intor(\"int1e_nuc\"),\n",
    "    mol.intor(\"int2e\"),\n",
    "    QI,\n",
    "    #include_active_kappa = True\n",
    ")\n",
    "WF.ansatz_parameters = [1.5707963267948966, 6.283185307179586, 1.5707963267948966, 1.5707963267948966, 6.283185307179586, 1.5707963267948966, 1.5707963267948966, 6.283185307179586, 1.5707963267948966, 1.5707963267948966, 6.283185307179586, 1.5707963267948966, 1.5707963267948966, 6.283185307179586, 1.5707963267948966, 1.5707963267948966, 6.283185307179586, 1.5707963267948966, 1.5707963267948966, 6.283185307179586, 1.5707963267948966, 1.5707963267948966, 6.283185307179586, 1.5707963267948966, 1.5707963267948966, 6.283185307179586, 1.5707963267948966]\n",
    "#WF.ansatz_parameters = [np.pi/2 for _ in range(27)]\n",
    "clifford_ground_state_energy = WF.energy_elec\n",
    "print(clifford_ground_state_energy)\n",
    "\n",
    "backend = FakeTorino()\n",
    "QI.pass_manager = generate_preset_pass_manager(3,backend=backend,seed_transpiler=123) # seeded standard transpiler\n",
    "QI.do_postselection = False\n",
    "QI.do_M_mitigation = False\n",
    "noise_model = NoiseModel.from_backend(backend)\n",
    "sampler = Sampler(backend_options={\"noise_model\":noise_model})\n",
    "WF.change_primitive(sampler)\n",
    "noisy_clifford_ground_state_energy = WF.energy_elec\n",
    "print('exact:', clifford_ground_state_energy)\n",
    "print('noisy:', noisy_clifford_ground_state_energy)"
   ]
  },
  {
   "cell_type": "code",
   "execution_count": 25,
   "metadata": {},
   "outputs": [
    {
     "name": "stdout",
     "output_type": "stream",
     "text": [
      "[1.5707963267948966, 1.5707963267948966, 1.5707963267948966, 1.5707963267948966, 1.5707963267948966, 1.5707963267948966, 1.5707963267948966, 1.5707963267948966, 1.5707963267948966, 1.5707963267948966, 1.5707963267948966, 1.5707963267948966, 1.5707963267948966, 1.5707963267948966, 1.5707963267948966, 1.5707963267948966, 1.5707963267948966, 1.5707963267948966, 1.5707963267948966, 1.5707963267948966, 1.5707963267948966, 1.5707963267948966, 1.5707963267948966, 1.5707963267948966, 1.5707963267948966, 1.5707963267948966, 1.5707963267948966]\n"
     ]
    }
   ],
   "source": [
    "print(WF.ansatz_parameters)"
   ]
  },
  {
   "cell_type": "code",
   "execution_count": 7,
   "metadata": {},
   "outputs": [
    {
     "name": "stdout",
     "output_type": "stream",
     "text": [
      "converged SCF energy = -1.77674731624872\n",
      "Number of shots is None. Ideal simulator is assumed.\n",
      "You selected ISA but did not pass a PassManager. Standard internal transpilation will use backend None with optimization level 3\n"
     ]
    },
    {
     "name": "stderr",
     "output_type": "stream",
     "text": [
      "/tmp/ipykernel_776274/2393043778.py:7: DeprecationWarning: The class ``qiskit.primitives.estimator.Estimator`` is deprecated as of qiskit 1.2. It will be removed no earlier than 3 months after the release date. All implementations of the `BaseEstimatorV1` interface have been deprecated in favor of their V2 counterparts. The V2 alternative for the `Estimator` class is `StatevectorEstimator`.\n",
      "  sampler = Estimator()\n"
     ]
    },
    {
     "name": "stdout",
     "output_type": "stream",
     "text": [
      "Non-Clifford Ground state energy: -3.712421442890217\n",
      "Using this function is only recommended for switching from ideal simulator to shot-noise or quantum hardware.\n",
      "                 Multiple switching back and forth can lead to un-expected outcomes and is an experimental feature.\n",
      "\n",
      "Reset RDMs, energies, and QI metrics.\n",
      "Number of shots is None. Ideal simulator is assumed.\n",
      "Your settings are:\n",
      " Ansatz:              tUPS\n",
      " Number of shots:     None\n",
      " ISA                  True\n",
      " Transpiled circuit   True\n",
      " Primitive:           Sampler\n",
      " Post-processing:     False\n",
      " Circuit layout:      [44, 26, 27, 17, 43, 25, 35, 28]\n",
      " Non-local gates:     528\n",
      " Transpilation strategy: External PassManager\n",
      " Primitive backend:   AerSimulator('aer_simulator'\n",
      "             noise_model=<NoiseModel on ['measure', 'id', 'cz', 'sx', 'x', 'reset']>)\n",
      "\n",
      "Noisy Non-Clifford Ground state energy: -2.853327201865213\n"
     ]
    }
   ],
   "source": [
    "mol = pyscf.M(atom=\"\"\"H 0.0 0.0 0.0;\n",
    "                      H 1.5 0.0 0.0;\n",
    "                      H 0.0 1.8 0.0;\n",
    "                      H 1.5 1.8 0.0;\"\"\", basis=\"sto-3g\", unit=\"angstrom\")\n",
    "rhf = pyscf.scf.RHF(mol).run()\n",
    "\n",
    "sampler = Estimator()\n",
    "primitive = sampler\n",
    "mapper = JordanWignerMapper()\n",
    "# For H4 you can make the wavefunction better by increasing n_layers.\n",
    "# n_layers: 3 will prob. give almost the FCI solution.\n",
    "QI = QuantumInterface(primitive, \"tUPS\", mapper, ansatz_options={\"n_layers\": 4, \"do_pp\": True}, ISA = True)\n",
    "\n",
    "WF = WaveFunction(\n",
    "    mol.nao * 2,\n",
    "    mol.nelectron,\n",
    "    (4, 4),\n",
    "    rhf.mo_coeff,\n",
    "    mol.intor(\"int1e_kin\") + mol.intor(\"int1e_nuc\"),\n",
    "    mol.intor(\"int2e\"),\n",
    "    QI,\n",
    "    include_active_kappa = True\n",
    ")\n",
    "\n",
    "#WF.run_vqe_2step(\"RotoSolve\", maxiter=3)\n",
    "#WF.run_vqe_2step(\"SLSQP\", maxiter=40)\n",
    "WF.ansatz_parameters = [3.1431228572975396, 2.7861493547159264, 3.1396692239259947, -3.142057339846848, 2.791150176990398, 3.144389766300438, -1.5653104599425836, 0.27240921676016555, 3.1384976277670154, 3.1210497755145403, 0.0655975291978254, 3.1386831001117295, 3.1672998707476467, 0.00045866400767861026, -3.113669666746792, -3.126391643474034, -0.034094707610928636, 3.151672138940099, 3.097362854855655, -0.0822620679689756, 3.0505562027648816, -3.0905175956936484, -0.011010502555054685, -3.0594652278673737, -3.149314869130154, -0.23511735777506634, 3.124078811244982, -3.400189577683653, -0.03766298071932297, -3.4773143551058996, 3.3796990528741597, 0.020211517238238847, 3.4558195393388034, 3.140869714110472, -0.08923065201729881, 3.1437217521757854]\n",
    "optimized_parameters = WF.ansatz_parameters\n",
    "#no noise\n",
    "nonclif_ground_state_energy = WF.energy_elec\n",
    "print(\"Non-Clifford Ground state energy:\", nonclif_ground_state_energy)\n",
    "\n",
    "#device noise\n",
    "# Update the primitive with simulated noise\n",
    "backend = FakeTorino()\n",
    "QI.pass_manager = generate_preset_pass_manager(3,backend=backend,seed_transpiler=123) # seeded standard transpiler\n",
    "QI.do_postselection = False\n",
    "QI.do_M_mitigation = False\n",
    "noise_model = NoiseModel.from_backend(backend)\n",
    "sampler = Sampler(backend_options={\"noise_model\":noise_model})\n",
    "WF.change_primitive(sampler)    \n",
    "# Calculate the ground state energy using the noisy simulator\n",
    "noisy_nonclif_ground_state_energy = WF.energy_elec\n",
    "print(\"Noisy Non-Clifford Ground state energy:\",noisy_nonclif_ground_state_energy)"
   ]
  },
  {
   "cell_type": "code",
   "execution_count": 8,
   "metadata": {},
   "outputs": [
    {
     "name": "stdout",
     "output_type": "stream",
     "text": [
      "36\n"
     ]
    }
   ],
   "source": [
    "print(len(WF.ansatz_parameters))"
   ]
  },
  {
   "cell_type": "code",
   "execution_count": 9,
   "metadata": {},
   "outputs": [
    {
     "name": "stdout",
     "output_type": "stream",
     "text": [
      "[1.5707963267948966, 6.283185307179586, 1.5707963267948966, 1.5707963267948966, 6.283185307179586, 1.5707963267948966, 1.5707963267948966, 6.283185307179586, 1.5707963267948966, 1.5707963267948966, 6.283185307179586, 1.5707963267948966, 1.5707963267948966, 6.283185307179586, 1.5707963267948966, 1.5707963267948966, 6.283185307179586, 1.5707963267948966, 1.5707963267948966, 6.283185307179586, 1.5707963267948966, 1.5707963267948966, 6.283185307179586, 1.5707963267948966, 1.5707963267948966, 6.283185307179586, 1.5707963267948966, 1.5707963267948966, 6.283185307179586, 1.5707963267948966, 1.5707963267948966, 6.283185307179586, 1.5707963267948966, 1.5707963267948966, 6.283185307179586, 1.5707963267948966]\n"
     ]
    }
   ],
   "source": [
    "for i in range(len(optimized_parameters)):\n",
    "    m = np.pi/2\n",
    "    WF.ansatz_parameters[i] = m\n",
    "    for n in range(12):\n",
    "        if i == 1 + 3*n:\n",
    "            WF.ansatz_parameters[i] = 4*m\n",
    "\n",
    "print(WF.ansatz_parameters)"
   ]
  },
  {
   "cell_type": "code",
   "execution_count": 14,
   "metadata": {},
   "outputs": [
    {
     "name": "stdout",
     "output_type": "stream",
     "text": [
      "converged SCF energy = -1.77674731624872\n",
      "Number of shots is None. Ideal simulator is assumed.\n",
      "You selected ISA but did not pass a PassManager. Standard internal transpilation will use backend None with optimization level 3\n"
     ]
    },
    {
     "name": "stderr",
     "output_type": "stream",
     "text": [
      "/tmp/ipykernel_776274/3126877671.py:7: DeprecationWarning: The class ``qiskit.primitives.estimator.Estimator`` is deprecated as of qiskit 1.2. It will be removed no earlier than 3 months after the release date. All implementations of the `BaseEstimatorV1` interface have been deprecated in favor of their V2 counterparts. The V2 alternative for the `Estimator` class is `StatevectorEstimator`.\n",
      "  sampler = Estimator()\n"
     ]
    },
    {
     "name": "stdout",
     "output_type": "stream",
     "text": [
      "Non-Clifford Ground state energy: -3.289581357882583\n",
      "Using this function is only recommended for switching from ideal simulator to shot-noise or quantum hardware.\n",
      "                 Multiple switching back and forth can lead to un-expected outcomes and is an experimental feature.\n",
      "\n",
      "Reset RDMs, energies, and QI metrics.\n",
      "Number of shots is None. Ideal simulator is assumed.\n",
      "Your settings are:\n",
      " Ansatz:              tUPS\n",
      " Number of shots:     None\n",
      " ISA                  True\n",
      " Transpiled circuit   True\n",
      " Primitive:           Sampler\n",
      " Post-processing:     False\n",
      " Circuit layout:      [44, 26, 27, 17, 43, 25, 35, 28]\n",
      " Non-local gates:     528\n",
      " Transpilation strategy: External PassManager\n",
      " Primitive backend:   AerSimulator('aer_simulator'\n",
      "             noise_model=<NoiseModel on ['measure', 'id', 'cz', 'sx', 'x', 'reset']>)\n",
      "\n",
      "Noisy Non-Clifford Ground state energy: -2.9598300797108297\n"
     ]
    }
   ],
   "source": [
    "mol = pyscf.M(atom=\"\"\"H 0.0 0.0 0.0;\n",
    "                      H 1.5 0.0 0.0;\n",
    "                      H 0.0 1.8 0.0;\n",
    "                      H 1.5 1.8 0.0;\"\"\", basis=\"sto-3g\", unit=\"angstrom\")\n",
    "rhf = pyscf.scf.RHF(mol).run()\n",
    "\n",
    "sampler = Estimator()\n",
    "primitive = sampler\n",
    "mapper = JordanWignerMapper()\n",
    "# For H4 you can make the wavefunction better by increasing n_layers.\n",
    "# n_layers: 3 will prob. give almost the FCI solution.\n",
    "QI = QuantumInterface(primitive, \"tUPS\", mapper, ansatz_options={\"n_layers\": 4, \"do_pp\": True}, ISA = True)\n",
    "\n",
    "WF = WaveFunction(\n",
    "    mol.nao * 2,\n",
    "    mol.nelectron,\n",
    "    (4, 4),\n",
    "    rhf.mo_coeff,\n",
    "    mol.intor(\"int1e_kin\") + mol.intor(\"int1e_nuc\"),\n",
    "    mol.intor(\"int2e\"),\n",
    "    QI,\n",
    "    include_active_kappa = True\n",
    ")\n",
    "\n",
    "#WF.run_vqe_2step(\"RotoSolve\", maxiter=3)\n",
    "#WF.run_vqe_2step(\"SLSQP\", maxiter=40)\n",
    "#WF.ansatz_parameters = [np.pi/2 for _ in range(36)]\n",
    "WF.ansatz_parameters = [1.5707963267948966, 6.283185307179586, 1.5707963267948966, 1.5707963267948966, 6.283185307179586, 1.5707963267948966, 1.5707963267948966, 6.283185307179586, 1.5707963267948966, 1.5707963267948966, 6.283185307179586, 1.5707963267948966, 1.5707963267948966, 6.283185307179586, 1.5707963267948966, 1.5707963267948966, 6.283185307179586, 1.5707963267948966, 1.5707963267948966, 6.283185307179586, 1.5707963267948966, 1.5707963267948966, 6.283185307179586, 1.5707963267948966, 1.5707963267948966, 6.283185307179586, 1.5707963267948966, 1.5707963267948966, 6.283185307179586, 1.5707963267948966, 1.5707963267948966, 6.283185307179586, 1.5707963267948966, 1.5707963267948966, 6.283185307179586, 1.5707963267948966]\n",
    "optimized_parameters = WF.ansatz_parameters\n",
    "#no noise\n",
    "nonclif_ground_state_energy = WF.energy_elec\n",
    "print(\"Non-Clifford Ground state energy:\", nonclif_ground_state_energy)\n",
    "\n",
    "#device noise\n",
    "# Update the primitive with simulated noise\n",
    "backend = FakeTorino()\n",
    "QI.pass_manager = generate_preset_pass_manager(3,backend=backend,seed_transpiler=123) # seeded standard transpiler\n",
    "QI.do_postselection = False\n",
    "QI.do_M_mitigation = False\n",
    "noise_model = NoiseModel.from_backend(backend)\n",
    "sampler = Sampler(backend_options={\"noise_model\":noise_model})\n",
    "WF.change_primitive(sampler)    \n",
    "# Calculate the ground state energy using the noisy simulator\n",
    "noisy_nonclif_ground_state_energy = WF.energy_elec\n",
    "print(\"Noisy Non-Clifford Ground state energy:\",noisy_nonclif_ground_state_energy)"
   ]
  }
 ],
 "metadata": {
  "kernelspec": {
   "display_name": "myenv",
   "language": "python",
   "name": "python3"
  },
  "language_info": {
   "codemirror_mode": {
    "name": "ipython",
    "version": 3
   },
   "file_extension": ".py",
   "mimetype": "text/x-python",
   "name": "python",
   "nbconvert_exporter": "python",
   "pygments_lexer": "ipython3",
   "version": "3.12.4"
  }
 },
 "nbformat": 4,
 "nbformat_minor": 2
}
